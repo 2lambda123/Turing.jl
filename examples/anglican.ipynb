{
 "cells": [
  {
   "cell_type": "code",
   "execution_count": null,
   "metadata": {
    "collapsed": true
   },
   "outputs": [],
   "source": [
    "using Gadfly"
   ]
  },
  {
   "cell_type": "code",
   "execution_count": null,
   "metadata": {
    "collapsed": false
   },
   "outputs": [],
   "source": [
    "include(\"benchmark.jl\");"
   ]
  },
  {
   "cell_type": "code",
   "execution_count": null,
   "metadata": {
    "collapsed": false
   },
   "outputs": [],
   "source": [
    "models = [\"anglican_gaussian\", \"anglican_hmm\", \"anglican_crp\", \"anglican_branching\"];"
   ]
  },
  {
   "cell_type": "code",
   "execution_count": null,
   "metadata": {
    "collapsed": true
   },
   "outputs": [],
   "source": [
    "ns = [100, 500, 1000, 5000, 10000];"
   ]
  },
  {
   "cell_type": "code",
   "execution_count": null,
   "metadata": {
    "collapsed": false
   },
   "outputs": [],
   "source": [
    "results = Dict();\n",
    "for m = models\n",
    "    for n = ns\n",
    "        results[(m,n)] = benchmark(m, SMC(n))\n",
    "    end\n",
    "end"
   ]
  },
  {
   "cell_type": "code",
   "execution_count": null,
   "metadata": {
    "collapsed": false
   },
   "outputs": [],
   "source": [
    "println(\"times: \")\n",
    "for m = models\n",
    "    println(\"\\t\", m, \": \")\n",
    "    for n = ns\n",
    "        println(\"\\t\\t\", n, \": \", results[(m,n)][:time], \" s\")\n",
    "    end\n",
    "end"
   ]
  },
  {
   "cell_type": "code",
   "execution_count": null,
   "metadata": {
    "collapsed": false
   },
   "outputs": [],
   "source": [
    "plots = Dict();\n",
    "for m = models\n",
    "    kls = map(n -> results[(m,n)][:KL], ns)\n",
    "    plots[m] = plot(x = ns, y = kls, Scale.x_log, Scale.y_log, Guide.xlabel(\"Number of particles\"),\n",
    "     Guide.ylabel(\"KL\"), Guide.title(m))\n",
    "end"
   ]
  },
  {
   "cell_type": "code",
   "execution_count": null,
   "metadata": {
    "collapsed": false
   },
   "outputs": [],
   "source": [
    "plots[\"anglican_gaussian\"]"
   ]
  },
  {
   "cell_type": "code",
   "execution_count": null,
   "metadata": {
    "collapsed": false
   },
   "outputs": [],
   "source": [
    "hstack(plots[\"anglican_gaussian\"],  plots[\"anglican_hmm\"], plots[\"anglican_crp\"]) #Branching seems broken"
   ]
  },
  {
   "cell_type": "code",
   "execution_count": null,
   "metadata": {
    "collapsed": true
   },
   "outputs": [],
   "source": []
  }
 ],
 "metadata": {
  "kernelspec": {
   "display_name": "Julia 0.4.4-pre",
   "language": "julia",
   "name": "julia-0.4"
  },
  "language_info": {
   "file_extension": ".jl",
   "mimetype": "application/julia",
   "name": "julia",
   "version": "0.4.4"
  }
 },
 "nbformat": 4,
 "nbformat_minor": 0
}
