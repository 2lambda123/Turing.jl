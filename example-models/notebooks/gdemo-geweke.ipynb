{
 "cells": [
  {
   "cell_type": "code",
   "execution_count": 1,
   "metadata": {
    "collapsed": true
   },
   "outputs": [],
   "source": [
    "using Distributions, Turing\n",
    "using Gadfly"
   ]
  },
  {
   "cell_type": "code",
   "execution_count": 2,
   "metadata": {
    "collapsed": false
   },
   "outputs": [
    {
     "name": "stdout",
     "output_type": "stream",
     "text": [
      " Assume - `s` is a parameter\n",
      " Assume - `m` is a parameter\n",
      " Assume - `y` is a parameter\n",
      " Observe - `x` is an observation\n"
     ]
    },
    {
     "data": {
      "text/plain": [
       "gdemo2 (generic function with 4 methods)"
      ]
     },
     "execution_count": 2,
     "metadata": {},
     "output_type": "execute_result"
    }
   ],
   "source": [
    "@model gdemo2(x, bkstep) = begin\n",
    "    y = similar(x)\n",
    "    if bkstep == false  \n",
    "        # Forward Sample\n",
    "        s ~ InverseGamma(2,3)\n",
    "        m ~ Normal(0,sqrt(s))\n",
    "        y[1] ~ Normal(m, sqrt(s))\n",
    "        y[2] ~ Normal(m, sqrt(s))\n",
    "    elseif bkstep == true \n",
    "        # Backward Step 1: theta ~ theta | x\n",
    "        s ~ InverseGamma(2,3)\n",
    "        m ~ Normal(0,sqrt(s))\n",
    "        x[1] ~ Normal(m, sqrt(s))\n",
    "        x[2] ~ Normal(m, sqrt(s))\n",
    "        # Backward Step 2: x ~ x | theta\n",
    "        y[1] ~ Normal(m, sqrt(s))\n",
    "        y[2] ~ Normal(m, sqrt(s))\n",
    "    end\n",
    "    return s, m, y\n",
    "end"
   ]
  },
  {
   "cell_type": "code",
   "execution_count": 3,
   "metadata": {
    "collapsed": false
   },
   "outputs": [],
   "source": [
    "fw = PG(20, 300)\n",
    "bk = Gibbs(10, PG(10,10, :s, :y), HMC(1, 0.25, 5, :m));"
   ]
  },
  {
   "cell_type": "code",
   "execution_count": 4,
   "metadata": {
    "collapsed": false
   },
   "outputs": [
    {
     "name": "stdout",
     "output_type": "stream",
     "text": [
      "[PG]: Finshed within 2.7866458892822266 seconds\n"
     ]
    }
   ],
   "source": [
    "s = @sample(gdemo2([1.5, 2], false), fw);"
   ]
  },
  {
   "cell_type": "code",
   "execution_count": 5,
   "metadata": {
    "collapsed": false
   },
   "outputs": [
    {
     "name": "stdout",
     "output_type": "stream",
     "text": [
      "Iterations = 1:300\n",
      "Thinning interval = 1\n",
      "Chains = 1\n",
      "Samples per chain = 300\n",
      "\n",
      "Empirical Posterior Estimates:\n",
      "         Mean        SD     Naive SE      MCSE    ESS\n",
      "   m 0.186876338 1.5828736 0.09138725 0.031917705 300\n",
      "y[1] 0.021829037 2.4501294 0.14145829 0.080212894 300\n",
      "y[2] 0.295076622 2.4325274 0.14044203 0.103072231 300\n",
      "   s 3.253114980 5.5768925 0.32198204 0.073906481 300\n",
      "\n",
      "Quantiles:\n",
      "         2.5%       25.0%       50.0%      75.0%      97.5%  \n",
      "   m -2.74503914 -0.76699002 0.118378945 1.0859695  3.4705196\n",
      "y[1] -4.06774709 -1.35406974 0.044656838 1.2878395  4.0238171\n",
      "y[2] -3.71981601 -0.95970933 0.145579527 1.4402614  5.3891412\n",
      "   s  0.48593145  1.08023792 1.781509454 3.3918546 13.4523979\n",
      "\n"
     ]
    }
   ],
   "source": [
    "describe(s)"
   ]
  },
  {
   "cell_type": "code",
   "execution_count": null,
   "metadata": {
    "collapsed": false
   },
   "outputs": [
    {
     "name": "stdout",
     "output_type": "stream",
     "text": [
      "[Gibbs]: Finshed within 4.269287109375 seconds\n",
      "[Gibbs]: Finshed within 0.07929396629333496 seconds\n",
      "[Gibbs]: Finshed within 0.0547490119934082 seconds\n",
      "[Gibbs]: Finshed within 0.06913399696350098 seconds\n",
      "[Gibbs]: Finshed within 0.06143689155578613 seconds\n",
      "[Gibbs]: Finshed within 0.09006118774414062 seconds\n"
     ]
    }
   ],
   "source": [
    "N = 100\n",
    "x = [s[:y][1]...]\n",
    "s_bk = Array{Turing.Chain}(N)\n",
    "\n",
    "for i = 1:N\n",
    "    s_bk[i] = @sample(gdemo2(x, true), bk);\n",
    "    x = [s_bk[i][:y][1]...];\n",
    "end"
   ]
  },
  {
   "cell_type": "code",
   "execution_count": null,
   "metadata": {
    "collapsed": false
   },
   "outputs": [],
   "source": [
    "s2 = vcat(s_bk...);\n",
    "describe(s2)"
   ]
  },
  {
   "cell_type": "code",
   "execution_count": null,
   "metadata": {
    "collapsed": false
   },
   "outputs": [],
   "source": []
  },
  {
   "cell_type": "code",
   "execution_count": null,
   "metadata": {
    "collapsed": false
   },
   "outputs": [],
   "source": [
    "p = plot(s);"
   ]
  },
  {
   "cell_type": "code",
   "execution_count": null,
   "metadata": {
    "collapsed": false
   },
   "outputs": [],
   "source": [
    "hstack(p[1:2])"
   ]
  },
  {
   "cell_type": "code",
   "execution_count": null,
   "metadata": {
    "collapsed": false
   },
   "outputs": [],
   "source": [
    "hstack(p[3:4])"
   ]
  },
  {
   "cell_type": "code",
   "execution_count": null,
   "metadata": {
    "collapsed": false
   },
   "outputs": [],
   "source": [
    "heideldiag(s)"
   ]
  },
  {
   "cell_type": "code",
   "execution_count": null,
   "metadata": {
    "collapsed": false
   },
   "outputs": [],
   "source": [
    "import Turing.@sample\n",
    "\n",
    "macro sample(modelcall, alg, optionalps...)\n",
    "  modelf = modelcall.args[1]      # get the function symbol for model\n",
    "  psyms = modelcall.args[2:end]   # get the (passed-in) symbols\n",
    "  esc(quote\n",
    "    data_ = Dict()\n",
    "    arglist_ = Turing.TURING[:modelarglist]\n",
    "    localsyms_ = $psyms\n",
    "    for i_ = 1:length(arglist_)\n",
    "      localsym_ = localsyms_[i_]     # passed-in symbols are local\n",
    "      arg_ = arglist_[i_]            # arglist are symbols in model scope\n",
    "      data_[arg_] = eval(localsym_)\n",
    "    end\n",
    "    sample($modelf, data_, $alg, $optionalps...)\n",
    "  end)\n",
    "end"
   ]
  },
  {
   "cell_type": "code",
   "execution_count": null,
   "metadata": {
    "collapsed": true
   },
   "outputs": [],
   "source": []
  }
 ],
 "metadata": {
  "anaconda-cloud": {},
  "kernelspec": {
   "display_name": "Julia 0.5.0",
   "language": "julia",
   "name": "julia-0.5"
  },
  "language_info": {
   "file_extension": ".jl",
   "mimetype": "application/julia",
   "name": "julia",
   "version": "0.5.0"
  }
 },
 "nbformat": 4,
 "nbformat_minor": 1
}
