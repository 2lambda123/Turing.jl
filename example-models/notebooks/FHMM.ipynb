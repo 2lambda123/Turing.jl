{
 "cells": [
  {
   "cell_type": "code",
   "execution_count": null,
   "metadata": {
    "collapsed": false
   },
   "outputs": [],
   "source": [
    "using Turing, Distributions\n",
    "using PyPlot, PyCall"
   ]
  },
  {
   "cell_type": "code",
   "execution_count": null,
   "metadata": {
    "collapsed": false
   },
   "outputs": [],
   "source": [
    "y1 = 10*sin(0:0.2:2pi); y1 += randn(length(y1))\n",
    "y2 = 10*sin(0:0.2:2pi); y2 += randn(length(y2))\n",
    "y = [y1'; y2']\n",
    "N = size(y)[end];  K = 20;"
   ]
  },
  {
   "cell_type": "code",
   "execution_count": null,
   "metadata": {
    "collapsed": false
   },
   "outputs": [],
   "source": [
    "@model FHMM(y) = begin\n",
    "    s1 = tzeros(Int, N)\n",
    "    s2 = tzeros(Int, N)\n",
    "    m1 = tzeros(Real, K)\n",
    "    m2 = tzeros(Real, K)\n",
    "    T1 = Vector{Vector{Real}}(K)\n",
    "    T2 = Vector{Vector{Real}}(K)\n",
    "    for i = 1:K\n",
    "        T1[i] ~ Dirichlet(ones(K)/K)\n",
    "        T2[i] ~ Dirichlet(ones(K)/K)\n",
    "        m1[i] ~ Normal(i, 1)\n",
    "        m2[i] ~ Normal(i, 1)\n",
    "    end\n",
    "    s1[1] ~ Categorical(ones(Float64, K)/K)\n",
    "    s2[1] ~ Categorical(ones(Float64, K)/K)\n",
    "    for i = 2:N\n",
    "        s1[i] ~ Categorical(vec(T1[s1[i-1]]))\n",
    "        s2[i] ~ Categorical(vec(T2[s2[i-1]]))\n",
    "        y[:,i] ~ MvNormal([m1[s1[i]], m2[s2[i]]], 1*ones(2))\n",
    "    end\n",
    "end"
   ]
  },
  {
   "cell_type": "code",
   "execution_count": null,
   "metadata": {
    "collapsed": false
   },
   "outputs": [],
   "source": [
    "g = Gibbs(300, HMC(1, 0.2, 5, :m1, :T1, :m2, :T2), PG(25, 1, :s1, :s2); thin=false)\n",
    "c = sample(FHMM(y), g);"
   ]
  },
  {
   "cell_type": "code",
   "execution_count": null,
   "metadata": {
    "collapsed": false
   },
   "outputs": [],
   "source": [
    "describe(c)"
   ]
  },
  {
   "cell_type": "code",
   "execution_count": null,
   "metadata": {
    "collapsed": false
   },
   "outputs": [],
   "source": [
    "m1 = c[:m1][222];\n",
    "s1 = c[:s1][222];\n",
    "PyPlot.plot(y[1,:], linestyle=\"None\", marker=\"+\", color = \"r\")\n",
    "PyPlot.plot(m1[s1], linestyle=\"-\", marker=\"*\", color = \"b\")"
   ]
  },
  {
   "cell_type": "code",
   "execution_count": null,
   "metadata": {
    "collapsed": false
   },
   "outputs": [],
   "source": [
    "m2 = c[:m2][250];\n",
    "s2 = c[:s2][250];\n",
    "PyPlot.plot(y[2,:], linestyle=\"None\", marker=\"+\", color = \"r\")\n",
    "PyPlot.plot(m2[s2], linestyle=\"-\", marker=\"*\", color = \"b\")"
   ]
  },
  {
   "cell_type": "code",
   "execution_count": null,
   "metadata": {
    "collapsed": true
   },
   "outputs": [],
   "source": []
  }
 ],
 "metadata": {
  "anaconda-cloud": {},
  "kernel_info": {
   "name": "julia-0.5"
  },
  "kernelspec": {
   "display_name": "Julia 0.5.0",
   "language": "julia",
   "name": "julia-0.5"
  },
  "language_info": {
   "file_extension": ".jl",
   "mimetype": "application/julia",
   "name": "julia",
   "version": "0.5.2"
  }
 },
 "nbformat": 4,
 "nbformat_minor": 1
}
