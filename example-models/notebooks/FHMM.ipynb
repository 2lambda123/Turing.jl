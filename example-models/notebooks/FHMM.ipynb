{
  "cells": [
    {
      "cell_type": "code",
      "source": [
        "using Turing, Distributions\n",
        "using PyPlot, PyCall"
      ],
      "outputs": [],
      "execution_count": null,
      "metadata": {
        "collapsed": false
      }
    },
    {
      "cell_type": "code",
      "source": [
        "y1 = 10*sin(0:0.2:2pi); y1 += randn(length(y1))\n",
        "y2 = 10*sin(0:0.2:2pi); y2 += randn(length(y2))\n",
        "Y = [y1'; y2']\n",
        "N = size(Y)[end];  K = 5;"
      ],
      "outputs": [],
      "execution_count": null,
      "metadata": {
        "collapsed": false
      }
    },
    {
      "cell_type": "code",
      "source": [
        "@model FHMM(y) = begin\n",
        "    s1 = tzeros(Int64, N)\n",
        "    s2 = tzeros(Int64, N)\n",
        "    m1 = tzeros(Real, K)\n",
        "    m2 = tzeros(Real, K)\n",
        "    T1 = Vector{Vector{Real}}(K)\n",
        "    T2 = Vector{Vector{Real}}(K)\n",
        "    for i = 1:K\n",
        "        T1[i] ~ Dirichlet(ones(K)/K)\n",
        "        T2[i] ~ Dirichlet(ones(K)/K)\n",
        "        m1[i] ~ Normal(i, 0.01)\n",
        "        m2[i] ~ Normal(i, 0.01)\n",
        "    end\n",
        "    s1[1] ~ Categorical(ones(Float64, K)/K)\n",
        "    s2[1] ~ Categorical(ones(Float64, K)/K)\n",
        "    for i = 2:N\n",
        "        s1[i] ~ Categorical(vec(T1[s1[i-1]]))\n",
        "        s2[i] ~ Categorical(vec(T2[s2[i-1]]))\n",
        "        y[i] ~ MvNormal([m1[s1[i]], m2[s2[i]]], 0.01*ones(2))\n",
        "    end\n",
        "end"
      ],
      "outputs": [],
      "execution_count": null,
      "metadata": {
        "collapsed": false
      }
    },
    {
      "cell_type": "code",
      "source": [
        "g = Gibbs(300, HMC(1, 0.2, 5, :m1, :T1, :m2, :T2), PG(50, 1, :s1, :s2))\n",
        "c = sample(FHMM(y), g);"
      ],
      "outputs": [],
      "execution_count": null,
      "metadata": {
        "collapsed": false
      }
    },
    {
      "cell_type": "code",
      "source": [
        "describe(c)"
      ],
      "outputs": [],
      "execution_count": null,
      "metadata": {
        "collapsed": false
      }
    },
    {
      "cell_type": "code",
      "source": [
        "m = c[:m][111];\n",
        "s = c[:s][111];\n",
        "PyPlot.plot(y, linestyle=\"None\", marker=\"+\", color = \"r\")\n",
        "PyPlot.plot(m[s], linestyle=\"-\", marker=\"*\", color = \"b\")"
      ],
      "outputs": [],
      "execution_count": null,
      "metadata": {
        "collapsed": false
      }
    }
  ],
  "metadata": {
    "anaconda-cloud": {},
    "kernel_info": {
      "name": "julia-0.5"
    },
    "kernelspec": {
      "name": "julia-0.5",
      "language": "julia",
      "display_name": "Julia 0.5.1"
    },
    "language_info": {
      "file_extension": ".jl",
      "mimetype": "application/julia",
      "name": "julia",
      "version": "0.5.0"
    }
  },
  "nbformat": 4,
  "nbformat_minor": 1
}