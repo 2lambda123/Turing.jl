{
  "cells": [
    {
      "cell_type": "code",
      "source": [
        "using Turing, Distributions\n",
        "using PyPlot, PyCall"
      ],
      "outputs": [
        {
          "output_type": "stream",
          "name": "stderr",
          "text": [
            "\u001b[1m\u001b[34mINFO: Precompiling module PyPlot.\n",
            "\u001b[0m/usr/lib/python2.7/dist-packages/matplotlib/font_manager.py:273: UserWarning: Matplotlib is building the font cache using fc-list. This may take a moment.\n",
            "  warnings.warn('Matplotlib is building the font cache using fc-list. This may take a moment.')\n"
          ]
        }
      ],
      "execution_count": 1,
      "metadata": {
        "collapsed": false
      }
    },
    {
      "cell_type": "code",
      "source": [
        "y = [ 1.0, 1.0, 1.0, 1.0, 2.0, 2.0, 2.0, 3.0, 3.0, 3.0, 2.0, 2.0, 2.0, 1.0, 1.0 ];\n",
        "N = length(y);\n",
        "K = 3;"
      ],
      "outputs": [],
      "execution_count": 2,
      "metadata": {
        "collapsed": false
      }
    },
    {
      "cell_type": "code",
      "source": [
        "@model BayesHmm(y) = begin\n",
        "    s = tzeros(Int64, N)\n",
        "    m = tzeros(Dual, K)\n",
        "    T = Array{Array}(K)\n",
        "    for i = 1:K\n",
        "        T[i] ~ Dirichlet(ones(K)/K)\n",
        "        # m[i] ~ Normal(1, 0.1) # Defining m this way causes label-switching problem.\n",
        "        m[i] ~ Normal(i, 0.01)\n",
        "    end\n",
        "    s[1] ~ Categorical(ones(Float64, K)/K)\n",
        "    for i = 2:N\n",
        "        s[i] ~ Categorical(vec(T[s[i-1]]))\n",
        "        y[i] ~ Normal(m[s[i]], 0.01)\n",
        "    end\n",
        "    return(s, m)\n",
        "end"
      ],
      "outputs": [
        {
          "output_type": "stream",
          "name": "stdout",
          "text": [
            "[Turing]: Assume - `T` is a parameter\n",
            "[Turing]: Assume - `m` is a parameter\n",
            "[Turing]: Assume - `s` is a parameter\n",
            "[Turing]: Observe - `y` is an observation\n"
          ]
        },
        {
          "output_type": "execute_result",
          "execution_count": 3,
          "data": {
            "text/plain": [
              "BayesHmm (generic function with 1 method)"
            ]
          },
          "metadata": {}
        }
      ],
      "execution_count": 3,
      "metadata": {
        "collapsed": false
      }
    },
    {
      "cell_type": "code",
      "source": [
        "g = Gibbs(300, HMC(1, 0.2, 5, :m, :T), PG(50, 1, :s))\n",
        "s = sample(BayesHmm(y), g);"
      ],
      "outputs": [
        {
          "output_type": "stream",
          "name": "stdout",
          "text": [
            "[Gibbs]: Finshed within 48.6394100189209 seconds\n"
          ]
        }
      ],
      "execution_count": 5,
      "metadata": {
        "collapsed": false
      }
    },
    {
      "cell_type": "code",
      "source": [
        "describe(s)"
      ],
      "outputs": [
        {
          "output_type": "stream",
          "name": "stdout",
          "text": [
            "Iterations = 1:300\n",
            "Thinning interval = 1\n",
            "Chains = 1\n",
            "Samples per chain = 300\n",
            "\n",
            "Empirical Posterior Estimates:\n",
            "           Mean                SD                       Naive SE             MCSE        ESS   \n",
            "   s[9] 2.99000000 0.099664990683253615322279 0.0057541609199758024864590 0.01000000  99.331104\n",
            "   s[5] 2.00000000 0.000000000000000000000000 0.0000000000000000000000000 0.00000000 300.000000\n",
            "   m[1] 1.00345960 0.000000000000002001740463 0.0000000000000001155705395 0.00000000 300.000000\n",
            "   s[4] 1.00000000 0.000000000000000000000000 0.0000000000000000000000000 0.00000000 300.000000\n",
            "   s[8] 2.99000000 0.099664990683253615322279 0.0057541609199758024864590 0.01000000  99.331104\n",
            "T[2][1] 0.24451570 0.000000000000000250217558 0.0000000000000000144463174 0.00000000 300.000000\n",
            "T[2][2] 0.66646516 0.000000000000001112078035 0.0000000000000000642058553 0.00000000 300.000000\n",
            "T[2][3] 0.08901915 0.000000000000000069504877 0.0000000000000000040128660 0.00000000 300.000000\n",
            "   s[7] 2.00000000 0.000000000000000000000000 0.0000000000000000000000000 0.00000000 300.000000\n",
            "   s[6] 2.00000000 0.000000000000000000000000 0.0000000000000000000000000 0.00000000 300.000000\n",
            "   s[2] 1.00000000 0.000000000000000000000000 0.0000000000000000000000000 0.00000000 300.000000\n",
            "   s[3] 1.12666667 0.421760392067120015724413 0.0243503475893473847468940 0.12666667  11.086818\n",
            "T[1][1] 0.64852635 0.921546994803377095273333 0.0532055405520620375292573 0.31444480   8.589070\n",
            "T[1][2] 0.09522934 0.049774503678563848663163 0.0028737323097598856461166 0.01698376   8.589070\n",
            "T[1][3] 0.62081956 0.335324834464603316330766 0.0193599883444105433372151 0.11441755   8.589070\n",
            "  s[12] 1.63542474 0.536447656660208993528727 0.0309718198978915573715831 0.18304349   8.589070\n",
            "   s[1] 2.57258073 0.496293719935340549298530 0.0286535312801789628089910 0.22847231   4.718570\n",
            "   m[2] 2.17837596 0.385592378665036539242550 0.0222621863619726946537103 0.11043937  12.190151\n",
            "  s[14] 1.02000000 0.199329981366507230644558 0.0115083218399516032381946 0.02000000  99.331104\n",
            "  s[11] 2.00000000 0.000000000000000000000000 0.0000000000000000000000000 0.00000000 300.000000\n",
            "   m[3] 3.00113498 0.000000000000003113818498 0.0000000000000001797763948 0.00000000 300.000000\n",
            "  s[15] 1.00000000 0.000000000000000000000000 0.0000000000000000000000000 0.00000000 300.000000\n",
            "  s[13] 1.99000000 0.099664990683253615322279 0.0057541609199758016190973 0.01000000  99.331104\n",
            "T[3][1] 0.69656554 0.000000000000000889662428 0.0000000000000000513646842 0.00000000 300.000000\n",
            "T[3][2] 0.10341250 0.000000000000000152910730 0.0000000000000000088283051 0.00000000 300.000000\n",
            "T[3][3] 0.20002196 0.000000000000000027801951 0.0000000000000000016051464 0.00000000 300.000000\n",
            "  s[10] 2.99000000 0.099664990683253615322279 0.0057541609199758024864590 0.01000000  99.331104\n",
            "\n",
            "Quantiles:\n",
            "            2.5%       25.0%       50.0%       75.0%      97.5%  \n",
            "   s[9] 3.000000000 3.000000000 3.000000000 3.00000000 3.00000000\n",
            "   s[5] 2.000000000 2.000000000 2.000000000 2.00000000 2.00000000\n",
            "   m[1] 1.003459604 1.003459604 1.003459604 1.00345960 1.00345960\n",
            "   s[4] 1.000000000 1.000000000 1.000000000 1.00000000 1.00000000\n",
            "   s[8] 3.000000000 3.000000000 3.000000000 3.00000000 3.00000000\n",
            "T[2][1] 0.244515698 0.244515698 0.244515698 0.24451570 0.24451570\n",
            "T[2][2] 0.666465156 0.666465156 0.666465156 0.66646516 0.66646516\n",
            "T[2][3] 0.089019146 0.089019146 0.089019146 0.08901915 0.08901915\n",
            "   s[7] 2.000000000 2.000000000 2.000000000 2.00000000 2.00000000\n",
            "   s[6] 2.000000000 2.000000000 2.000000000 2.00000000 2.00000000\n",
            "   s[2] 1.000000000 1.000000000 1.000000000 1.00000000 1.00000000\n",
            "   s[3] 1.000000000 1.000000000 1.000000000 1.00000000 3.00000000\n",
            "T[1][1] 0.022233686 0.022233686 0.022233686 2.00000000 2.00000000\n",
            "T[1][2] 0.022233686 0.022233686 0.129056601 0.12905660 0.12905660\n",
            "T[1][3] 0.129056601 0.129056601 0.848709713 0.84870971 0.84870971\n",
            "  s[12] 0.848709713 0.848709713 2.000000000 2.00000000 2.00000000\n",
            "   s[1] 1.997623353 1.997623353 3.000000000 3.00000000 3.00000000\n",
            "   m[2] 1.997623353 1.997623353 1.997623353 2.00000000 3.00000000\n",
            "  s[14] 1.000000000 1.000000000 1.000000000 1.00000000 1.00000000\n",
            "  s[11] 2.000000000 2.000000000 2.000000000 2.00000000 2.00000000\n",
            "   m[3] 3.001134978 3.001134978 3.001134978 3.00113498 3.00113498\n",
            "  s[15] 1.000000000 1.000000000 1.000000000 1.00000000 1.00000000\n",
            "  s[13] 2.000000000 2.000000000 2.000000000 2.00000000 2.00000000\n",
            "T[3][1] 0.696565535 0.696565535 0.696565535 0.69656554 0.69656554\n",
            "T[3][2] 0.103412502 0.103412502 0.103412502 0.10341250 0.10341250\n",
            "T[3][3] 0.200021963 0.200021963 0.200021963 0.20002196 0.20002196\n",
            "  s[10] 3.000000000 3.000000000 3.000000000 3.00000000 3.00000000\n",
            "\n"
          ]
        }
      ],
      "execution_count": 6,
      "metadata": {
        "collapsed": false
      }
    },
    {
      "cell_type": "code",
      "source": [
        "# m = c[:m][111];\n",
        "# s = c[:s][111];\n",
        "# PyPlot.plot(y, linestyle=\"None\", marker=\"+\", color = \"r\")\n",
        "# PyPlot.plot(m[s], linestyle=\"-\", marker=\"*\", color = \"b\")"
      ],
      "outputs": [
        {
          "output_type": "error",
          "ename": "LoadError",
          "evalue": "KeyError: key :m not found",
          "traceback": [
            "KeyError: key :m not found",
            "",
            " in getindex at ./dict.jl:697 [inlined]",
            " in getindex(::Turing.Sample, ::Symbol) at /home/kai/.julia/v0.5/Turing/src/core/io.jl:36",
            " in _collect(::Array{Turing.Sample,1}, ::Base.Generator{Array{Turing.Sample,1},Turing.##29#31{Symbol}}, ::Base.EltypeUnknown, ::Base.HasShape) at ./array.jl:320",
            " in getindex(::Turing.Chain, ::Symbol) at /home/kai/.julia/v0.5/Turing/src/core/io.jl:152"
          ]
        }
      ],
      "execution_count": 8,
      "metadata": {
        "collapsed": false
      }
    },
    {
      "cell_type": "code",
      "source": [
        "# Unable to get :m directly now\n",
        "ms = []\n",
        "for i = 1:14\n",
        "    s111 = s[Symbol(\"s[$i]\")][111]\n",
        "    m111 = s[Symbol(\"m[$s111]\")][111]\n",
        "    push!(ms, m111)\n",
        "end\n",
        "\n",
        "PyPlot.plot(y, linestyle=\"None\", marker=\"+\", color = \"r\")\n",
        "PyPlot.plot(ms, linestyle=\"-\", marker=\"*\", color = \"b\")"
      ],
      "outputs": [
        {
          "output_type": "display_data",
          "data": {
            "text/plain": [
              "PyPlot.Figure(PyObject <matplotlib.figure.Figure object at 0x7f019f4bf4d0>)"
            ],
            "image/png": "[encoded data removed]"
          },
          "metadata": {}
        },
        {
          "output_type": "execute_result",
          "execution_count": 14,
          "data": {
            "text/plain": [
              "1-element Array{Any,1}:\n",
              " PyObject <matplotlib.lines.Line2D object at 0x7f019f437290>"
            ]
          },
          "metadata": {}
        }
      ],
      "execution_count": 14,
      "metadata": {
        "collapsed": true
      }
    },
    {
      "cell_type": "code",
      "source": [],
      "outputs": [],
      "execution_count": null,
      "metadata": {
        "collapsed": false,
        "outputHidden": false,
        "inputHidden": false
      }
    }
  ],
  "metadata": {
    "anaconda-cloud": {},
    "kernelspec": {
      "name": "julia-0.5",
      "language": "julia",
      "display_name": "Julia 0.5.1"
    },
    "language_info": {
      "file_extension": ".jl",
      "name": "julia",
      "mimetype": "application/julia",
      "version": "0.5.1"
    },
    "kernel_info": {
      "name": "julia-0.5"
    }
  },
  "nbformat": 4,
  "nbformat_minor": 1
}