{
 "cells": [
  {
   "cell_type": "code",
   "execution_count": null,
   "metadata": {
    "collapsed": true
   },
   "outputs": [],
   "source": [
    "#DP mixture of Gaussians as used in Anglican\n",
    "using Turing, Distributions\n",
    "eval(Turing, :(debug_level=-1))\n",
    "\n",
    "data = [1.0, 1.1, 1.2, -10, -15, -20, 0.01, 0.1, 0.05, 0]\n",
    "N    = length(data)\n",
    "\n",
    "\n",
    "@model dpmixa begin\n",
    "  @assume ϕ ~ Inf[Normal(0, 10)]\n",
    "\n",
    "  dprintln(0, ϕ)\n",
    "  urn = CRP(1.72)\n",
    "  μ, classes = tzeros(N), tzeros(Int, N)\n",
    "  for i in 1:N\n",
    "    classes[i]  = rand!(urn)\n",
    "    μ[i]  = ϕ[classes[i]]\n",
    "    @observe data[i] ~ Normal(μ[i], 1)\n",
    "  end\n",
    "  K = length(unique(classes))\n",
    "\n",
    "  @predict K μ\n",
    "end\n"
   ]
  },
  {
   "cell_type": "code",
   "execution_count": null,
   "metadata": {
    "collapsed": true
   },
   "outputs": [],
   "source": [
    "# Collect 50 samples from Particle Gibbs sampler\n",
    "@time resulta  = sample(dpmixa, PG(20, 50))\n",
    "\n",
    "macroexpandTuring.TURING[:modelex]"
   ]
  }
 ],
 "metadata": {
  "kernelspec": {
   "display_name": "Julia 0.4.6",
   "language": "julia",
   "name": "julia-0.4"
  },
  "language_info": {
   "file_extension": ".jl",
   "mimetype": "application/julia",
   "name": "julia",
   "version": "0.4.6"
  }
 },
 "nbformat": 4,
 "nbformat_minor": 0
}
