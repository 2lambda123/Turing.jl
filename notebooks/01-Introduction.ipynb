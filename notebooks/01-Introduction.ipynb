{
 "cells": [
  {
   "cell_type": "code",
   "execution_count": 1,
   "metadata": {
    "collapsed": false
   },
   "outputs": [
    {
     "name": "stdout",
     "output_type": "stream",
     "text": [
      "Infered: m = 1.1747250457697729, s = 1.9965288350540338\n",
      "Exact: m = 1.1666666666666667, s = 2.0416666666666665\n"
     ]
    }
   ],
   "source": [
    "using Turing, Distributions\n",
    "\n",
    "@model gaussdemo begin\n",
    "  @assume s ~ InverseGamma(2,3)\n",
    "  @assume m ~ Normal(0,sqrt(s))\n",
    "  @observe 1.5 ~ Normal(m, sqrt(s))\n",
    "  @observe 2.0 ~ Normal(m, sqrt(s))\n",
    "  @predict s m\n",
    "end\n",
    "\n",
    "# Sample and print.\n",
    "res = sample(gaussdemo, SMC(10000))\n",
    "println(\"Infered: m = $(mean(res[:m])), s = $(mean(res[:s]))\")\n",
    "\n",
    "# Compute analytical solution. Requires `ConjugatePriors` package.\n",
    "exact = posterior(NormalInverseGamma(0,1,2,3), Normal, [1.5,2.0])\n",
    "println(\"Exact: m = $(mean(exact)[1]), s = $(mean(exact)[2])\")\n"
   ]
  },
  {
   "cell_type": "code",
   "execution_count": null,
   "metadata": {
    "collapsed": true
   },
   "outputs": [],
   "source": []
  }
 ],
 "metadata": {
  "anaconda-cloud": {},
  "kernelspec": {
   "display_name": "Julia 0.4.6",
   "language": "julia",
   "name": "julia-0.4"
  },
  "language_info": {
   "file_extension": ".jl",
   "mimetype": "application/julia",
   "name": "julia",
   "version": "0.4.6"
  }
 },
 "nbformat": 4,
 "nbformat_minor": 1
}
