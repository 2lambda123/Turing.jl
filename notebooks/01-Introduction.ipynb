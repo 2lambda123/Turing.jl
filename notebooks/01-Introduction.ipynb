{
 "cells": [
  {
   "cell_type": "markdown",
   "metadata": {},
   "source": [
    "## An introduction to Turing \n",
    "[Turing](https://github.com/yebai/Turing.jl) is a general-purpose probabilistic programming language based on Julia.\n",
    "\n",
    "Here we describe how to install Julia and Turing and run a very simple probabilistic program. "
   ]
  },
  {
   "cell_type": "markdown",
   "metadata": {},
   "source": [
    "### Prepration\n",
    "Install Julia from http://julialang.org/downloads/ \n"
   ]
  },
  {
   "cell_type": "code",
   "execution_count": null,
   "metadata": {
    "collapsed": false
   },
   "outputs": [],
   "source": [
    "Pkg.update()"
   ]
  },
  {
   "cell_type": "markdown",
   "metadata": {},
   "source": [
    "Install Turing "
   ]
  },
  {
   "cell_type": "code",
   "execution_count": null,
   "metadata": {
    "collapsed": false
   },
   "outputs": [],
   "source": [
    "Pkg.add(\"Turing\")\n"
   ]
  },
  {
   "cell_type": "markdown",
   "metadata": {},
   "source": [
    "Install some useful Julia packages:"
   ]
  },
  {
   "cell_type": "code",
   "execution_count": null,
   "metadata": {
    "collapsed": true
   },
   "outputs": [],
   "source": [
    "Pkg.add(\"IJulia\")\n",
    "Pkg.add(\"Gadfly\")"
   ]
  },
  {
   "cell_type": "markdown",
   "metadata": {},
   "source": [
    "#### Create your own model\n",
    "A probabilistic program is Julia code wrapped in a @model macro. It can use arbitrary Julia code, but to ensure correctness of inference it should not have external effects or modify global state. \n",
    "\n",
    "For probabilistic effects, Turing programs should use the following macros:\n",
    "- `@assume x ~ distr` where x is a symbol and distr is a distribution. Inside the probabilistic program this puts a random variable named x, distributed according to distr, in the current scope. distr can be a value of any type that implements rand(distr), which samples a value from the distribution distr.\n",
    "- `@observe y ~ distr` This is used for conditioning in a style similar to Anglican. Here y should be a value that is observed to have been drawn from the distribution distr. The likelihood is computed using pdf(distr,y) and should always be positive to ensure correctness of inference algorithms. The observe statements should be arranged so that every possible run traverses all of them in exactly the same order. This is equivalent to demanding that they are not placed inside stochastic control flow.\n",
    "- `@predict x` Registers the current value of x to be inspected in the results of inference.\n",
    "Inference methods are functions which take the probabilistic program as one of the arguments.\n",
    "\n",
    "You can create your own @model using any distribution within the Distributions package. The list of such distributions supported is huge: \n",
    "http://distributionsjl.readthedocs.io/en/latest/ "
   ]
  },
  {
   "cell_type": "code",
   "execution_count": null,
   "metadata": {
    "collapsed": false
   },
   "outputs": [],
   "source": [
    "using Turing, Distributions\n",
    "\n",
    "@model gaussdemo begin\n",
    "  @assume s ~ InverseGamma(2,3)\n",
    "  @assume m ~ Normal(0,sqrt(s))\n",
    "  @observe 1.5 ~ Normal(m, sqrt(s))\n",
    "  @observe 2.0 ~ Normal(m, sqrt(s))\n",
    "  @predict s m\n",
    "end\n",
    "\n",
    "# Sample and print.\n",
    "res = sample(gaussdemo, SMC(10000))\n",
    "println(\"Infered: m = $(mean(res[:m])), s = $(mean(res[:s]))\")\n",
    "\n",
    "# Compute analytical solution. Requires `ConjugatePriors` package.\n",
    "exact = posterior(NormalInverseGamma(0,1,2,3), Normal, [1.5,2.0])\n",
    "println(\"Exact: m = $(mean(exact)[1]), s = $(mean(exact)[2])\")\n"
   ]
  },
  {
   "cell_type": "markdown",
   "metadata": {
    "collapsed": true
   },
   "source": [
    "## Inference"
   ]
  },
  {
   "cell_type": "code",
   "execution_count": null,
   "metadata": {
    "collapsed": false
   },
   "outputs": [],
   "source": [
    "# Run sampler, collect results\n",
    "chain = sample(gaussdemo, SMC(500))\n",
    "\n",
    "# Print results.\n",
    "println(\"Infered: m = $(mean(res[:m])), s = $(mean(res[:s]))\")\n"
   ]
  }
 ],
 "metadata": {
  "anaconda-cloud": {},
  "kernelspec": {
   "display_name": "Julia 0.4.6",
   "language": "julia",
   "name": "julia-0.4"
  },
  "language_info": {
   "file_extension": ".jl",
   "mimetype": "application/julia",
   "name": "julia",
   "version": "0.4.6"
  }
 },
 "nbformat": 4,
 "nbformat_minor": 1
}
