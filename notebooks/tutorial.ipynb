{
 "cells": [
  {
   "cell_type": "markdown",
   "metadata": {},
   "source": [
    "## An introduction to Turing \n",
    "\n",
    "[Turing](https://github.com/yebai/Turing.jl) is a general-purpose probabilistic programming language based on Julia.\n",
    "\n",
    "Here we describe how to install Julia and Turing and run a very simple probabilistic program. "
   ]
  },
  {
   "cell_type": "markdown",
   "metadata": {},
   "source": [
    "### Prepration\n",
    "\n",
    "Install Julia from http://julialang.org/downloads/ and update packages"
   ]
  },
  {
   "cell_type": "code",
   "execution_count": 1,
   "metadata": {
    "collapsed": false
   },
   "outputs": [
    {
     "name": "stderr",
     "output_type": "stream",
     "text": [
      "\u001b[1m\u001b[34mINFO: Updating METADATA...\n",
      "\u001b[0m\u001b[1m\u001b[34mINFO: Updating cache of ColorTypes...\n",
      "\u001b[0m\u001b[1m\u001b[34mINFO: Updating cache of DataFrames...\n",
      "\u001b[0m\u001b[1m\u001b[34mINFO: Updating cache of DataArrays...\n",
      "\u001b[0m\u001b[1m\u001b[34mINFO: Updating cache of MATLAB...\n",
      "\u001b[0m\u001b[1m\u001b[34mINFO: Updating cache of FixedPointNumbers...\n",
      "\u001b[0m\u001b[1m\u001b[34mINFO: Updating cache of Compat...\n",
      "\u001b[0m\u001b[1m\u001b[34mINFO: Updating cache of Homebrew...\n",
      "\u001b[0m\u001b[1m\u001b[34mINFO: Updating cache of Interpolations...\n",
      "\u001b[0m\u001b[1m\u001b[34mINFO: Updating cache of Optim...\n",
      "\u001b[0m\u001b[1m\u001b[34mINFO: Updating cache of SortingAlgorithms...\n",
      "\u001b[0m\u001b[1m\u001b[34mINFO: Updating cache of PyCall...\n",
      "\u001b[0m\u001b[1m\u001b[34mINFO: Updating cache of Calculus...\n",
      "\u001b[0m\u001b[1m\u001b[34mINFO: Updating cache of DualNumbers...\n",
      "\u001b[0m\u001b[1m\u001b[34mINFO: Updating PEGParser master...\n",
      "\u001b[0m\u001b[1m\u001b[31mWARNING: Package Turing: skipping update (dirty)...\u001b[0m\n",
      "\u001b[1m\u001b[34mINFO: Computing changes...\n",
      "\u001b[0m\u001b[1m\u001b[34mINFO: Upgrading Calculus: v0.2.0 => v0.2.1\n",
      "\u001b[0m\u001b[1m\u001b[34mINFO: Upgrading ColorTypes: v0.3.4 => v0.3.5\n",
      "\u001b[0m\u001b[1m\u001b[34mINFO: Upgrading Compat: v0.19.0 => v0.20.0\n",
      "\u001b[0m\u001b[1m\u001b[34mINFO: Upgrading DataFrames: v0.8.5 => v0.9.0\n",
      "\u001b[0m\u001b[1m\u001b[34mINFO: Upgrading DualNumbers: v0.2.3 => v0.3.0\n",
      "\u001b[0m\u001b[1m\u001b[34mINFO: Upgrading FixedPointNumbers: v0.3.4 => v0.3.5\n",
      "\u001b[0m\u001b[1m\u001b[34mINFO: Upgrading Homebrew: v0.4.2 => v0.5.1\n",
      "\u001b[0m\u001b[1m\u001b[34mINFO: Upgrading Interpolations: v0.3.7 => v0.3.8\n",
      "\u001b[0m\u001b[1m\u001b[34mINFO: Installing LineSearches v0.1.5\n",
      "\u001b[0m\u001b[1m\u001b[34mINFO: Upgrading MATLAB: v0.5.0 => v0.5.1\n",
      "\u001b[0m\u001b[1m\u001b[34mINFO: Upgrading Optim: v0.5.0 => v0.7.8\n",
      "\u001b[0m\u001b[1m\u001b[34mINFO: Upgrading PyCall: v1.10.0 => v1.11.0\n",
      "\u001b[0m\u001b[1m\u001b[34mINFO: Upgrading SortingAlgorithms: v0.1.0 => v0.1.1\n",
      "\u001b[0m\u001b[1m\u001b[34mINFO: Building Homebrew\n",
      "\u001b[0m"
     ]
    },
    {
     "name": "stdout",
     "output_type": "stream",
     "text": [
      "Updated 1 tap (homebrew/core).\n",
      "==> New Formulae\n",
      "biogeme\n",
      "bit\n",
      "bluepill\n",
      "crowdin\n",
      "ctop\n",
      "dhall-json\n",
      "dmtx-utils\n",
      "gobuster\n",
      "grunt\n",
      "gtef\n",
      "libcds\n",
      "prest\n",
      "sha1dc\n",
      "spigot\n",
      "teleport\n",
      "tfenv\n",
      "urh\n",
      "woboq_codebrowser\n",
      "==> Updated Formulae\n",
      "ack\n",
      "activemq\n",
      "advancemame\n",
      "alot\n",
      "app-engine-java\n",
      "aptly-completion\n",
      "arangodb\n",
      "armor\n",
      "artifactory\n",
      "aws-elasticbeanstalk\n",
      "aws-sdk-cpp\n",
      "awscli\n",
      "azure-cli\n",
      "bacula-fd\n",
      "bagit\n",
      "bash-completion\n",
      "bitrise\n",
      "blackbox\n",
      "botan\n",
      "boxes\n",
      "byteman\n",
      "cake\n",
      "calcurse\n",
      "carthage\n",
      "cassandra\n",
      "castxml\n",
      "ccache\n",
      "certigo\n",
      "chromedriver\n",
      "clhep\n",
      "cockatrice\n",
      "codequery\n",
      "commandbox\n",
      "conan\n",
      "consul-backinator\n",
      "convox\n",
      "coreutils\n",
      "creduce\n",
      "crystal-icr\n",
      "crystal-lang\n",
      "csvtomd\n",
      "curlpp\n",
      "dante\n",
      "dcmtk\n",
      "debianutils\n",
      "deis\n",
      "dmd\n",
      "doctl\n",
      "doitlive\n",
      "dosfstools\n",
      "dovecot\n",
      "dub\n",
      "dvm\n",
      "emp\n",
      "eralchemy\n",
      "esniper\n",
      "etcd\n",
      "eventql\n",
      "excel-compare\n",
      "exim\n",
      "feedgnuplot\n",
      "folly\n",
      "fonttools\n",
      "fossil\n",
      "freeradius-server\n",
      "fuse-emulator\n",
      "gcc@4.9\n",
      "gdbm\n",
      "geckodriver\n",
      "gegl\n",
      "git-ftp\n",
      "git-lfs\n",
      "git-quick-stats\n",
      "gnome-autoar\n",
      "gnu-units\n",
      "gnuradio\n",
      "gnutls\n",
      "goaccess\n",
      "gofabric8\n",
      "googler\n",
      "gosu\n",
      "grails\n",
      "groovy\n",
      "grpc\n",
      "gti\n",
      "gtk+3\n",
      "gxml\n",
      "harfbuzz\n",
      "hebcal\n",
      "hg-flow\n",
      "hledger\n",
      "httest\n",
      "hyper\n",
      "i3status\n",
      "icecast\n",
      "idris\n",
      "imagemagick\n",
      "imagemagick@6\n",
      "iperf3\n",
      "ipfs\n",
      "irssi\n",
      "jboss-forge\n",
      "jenkins\n",
      "jetty\n",
      "jid\n",
      "jrnl\n",
      "jruby\n",
      "json-glib\n",
      "kafka\n",
      "khal\n",
      "kobalt\n",
      "kops\n",
      "kotlin\n",
      "kubernetes-cli\n",
      "kubernetes-helm\n",
      "ldc\n",
      "lftp\n",
      "libarchive\n",
      "libav\n",
      "libbluray\n",
      "libchamplain\n",
      "libffi\n",
      "libgpg-error\n",
      "libmatroska\n",
      "libmxml\n",
      "libosmium\n",
      "libphonenumber\n",
      "libsodium\n",
      "libwebsockets\n",
      "linkerd\n",
      "lldpd\n",
      "llvm\n",
      "logtalk\n",
      "lxc\n",
      "mailutils\n",
      "mandoc\n",
      "mariadb\n",
      "mariadb@10.0\n",
      "mbedtls\n",
      "mednafen\n",
      "mesos\n",
      "metricbeat\n",
      "mighttpd2\n",
      "mikutter\n",
      "miller\n",
      "minimesos\n",
      "mkdocs\n",
      "mongo-c-driver\n",
      "monit\n",
      "monotone\n",
      "mosquitto\n",
      "mpd\n",
      "mysql@5.6\n",
      "neo4j\n",
      "node\n",
      "node-build\n",
      "nomad\n",
      "nss\n",
      "nuget\n",
      "nvc\n",
      "offlineimap\n",
      "ompl\n",
      "openrtsp\n",
      "openvdb\n",
      "osc\n",
      "osrm-backend\n",
      "p11-kit\n",
      "packetbeat\n",
      "paket\n",
      "par2\n",
      "pcap_dnsproxy\n",
      "pcre\n",
      "pdfgrep\n",
      "pgcli\n",
      "pidgin\n",
      "ponyc\n",
      "proselint\n",
      "protobuf-swift\n",
      "psqlodbc\n",
      "pybind11\n",
      "pyinvoke\n",
      "pyqt5\n",
      "qscintilla2\n",
      "quex\n",
      "rancher-cli\n",
      "readline\n",
      "redpen\n",
      "reposurgeon\n",
      "ripgrep\n",
      "rmlint\n",
      "rtags\n",
      "scipy\n",
      "selenium-server-standalone\n",
      "sflowtool\n",
      "shairport-sync\n",
      "sip\n",
      "softhsm\n",
      "sonarqube\n",
      "sourcery\n",
      "spdlog\n",
      "sqlparse\n",
      "sshguard\n",
      "statik\n",
      "stout\n",
      "stuntman\n",
      "svgcleaner\n",
      "swiftformat\n",
      "swiftplate\n",
      "swimat\n",
      "syncthing\n",
      "sysbench\n",
      "tarsnapper\n",
      "tbb\n",
      "texmath\n",
      "thefuck\n",
      "tinc\n",
      "tintin\n",
      "todolist\n",
      "todoman\n",
      "ttyd\n",
      "tundra\n",
      "typescript\n",
      "vala\n",
      "vert.x\n",
      "vim\n",
      "wesnoth\n",
      "winetricks\n",
      "xonsh\n",
      "yle-dl\n",
      "youtube-dl\n",
      "zimg\n",
      "znc\n",
      "==> Renamed Formulae\n",
      "bash-completion2 -> bash-completion@2\n",
      "bazel02 -> bazel@0.2\n",
      "bigdata -> blazegraph\n",
      "bison27 -> bison@2.7\n",
      "boost-python159 -> boost-python@1.59\n",
      "cassandra21 -> cassandra@2.1\n",
      "cassandra22 -> cassandra@2.2\n",
      "clang-format38 -> clang-format@3.8\n",
      "docker111 -> docker@1.11\n",
      "docker171 -> docker@1.71\n",
      "ffmpeg28 -> ffmpeg@2.8\n",
      "freetds091 -> freetds@0.91\n",
      "giflib5 -> giflib@5\n",
      "glfw2 -> glfw@2\n",
      "gnupg21 -> gnupg@2.1\n",
      "gnuplot4 -> gnuplot@4\n",
      "gradle214 -> gradle@2.14\n",
      "grails25 -> grails@2.5\n",
      "gsl1 -> gsl@1\n",
      "gst-ffmpeg010 -> gst-ffmpeg@0.10\n",
      "gst-plugins-bad010 -> gst-plugins-bad@0.10\n",
      "gst-plugins-base010 -> gst-plugins-base@0.10\n",
      "gst-plugins-good010 -> gst-plugins-good@0.10\n",
      "gst-plugins-ugly010 -> gst-plugins-ugly@0.10\n",
      "gstreamer010 -> gstreamer@0.10\n",
      "postgresql94 -> postgresql@9.4\n",
      "postgresql95 -> postgresql@9.5\n",
      "rebar3 -> rebar@3\n",
      "recipes -> gnome-recipes\n",
      "redis26 -> redis@2.6\n",
      "redis28 -> redis@2.8\n",
      "ruby187 -> ruby@1.8\n",
      "ruby193 -> ruby@1.9\n",
      "ruby20 -> ruby@2.0\n",
      "ruby21 -> ruby@2.1\n",
      "ruby22 -> ruby@2.2\n",
      "ruby23 -> ruby@2.3\n",
      "==> Deleted Formulae\n",
      "ctorrent\n",
      "libgroove\n",
      "s3sync\n",
      "scsh\n",
      "xstow\n",
      "Uninstalling harfbuzz... (133 files, 5.0MB)\n",
      "==> Installing harfbuzz from staticfloat/juliatranslated\n",
      "==> Downloading https://homebrew.bintray.com/bottles/harfbuzz-1.4.5.sierra.bottle.tar.gz\n",
      "==> Pouring harfbuzz-1.4.5.sierra.bottle.tar.gz\n",
      "🍺  /Users/yebai/.julia/v0.5/Homebrew/deps/usr/Cellar/harfbuzz/1.4.5: 133 files, 5.0MB\n"
     ]
    },
    {
     "name": "stderr",
     "output_type": "stream",
     "text": [
      "Warning: Already linked: /Users/yebai/.julia/v0.5/Homebrew/deps/usr/Cellar/harfbuzz/1.4.5\n"
     ]
    },
    {
     "name": "stdout",
     "output_type": "stream",
     "text": [
      "Uninstalling libffi... (15 files, 362KB)\n",
      "==> Installing libffi from staticfloat/juliatranslated\n",
      "==> Downloading https://homebrew.bintray.com/bottles/libffi-3.2.1.sierra.bottle.tar.gz\n",
      "==> Pouring libffi-3.2.1.sierra.bottle.tar.gz\n",
      "==> Caveats\n",
      "This formula is keg-only, which means it was not symlinked into /Users/yebai/.julia/v0.5/Homebrew/deps/usr.\n",
      "\n",
      "Some formulae require a newer version of libffi.\n",
      "\n",
      "For compilers to find this software you may need to set:\n",
      "    LDFLAGS:  -L/Users/yebai/.julia/v0.5/Homebrew/deps/usr/opt/libffi/lib\n",
      "For pkg-config to find this software you may need to set:\n",
      "    PKG_CONFIG_PATH: /Users/yebai/.julia/v0.5/Homebrew/deps/usr/opt/libffi/lib/pkgconfig\n",
      "\n",
      "==> Summary\n",
      "🍺  /Users/yebai/.julia/v0.5/Homebrew/deps/usr/Cellar/libffi/3.2.1: 16 files, 297KB\n",
      "Uninstalling mbedtls... (127 files, 2.8MB)\n",
      "==> Installing mbedtls from staticfloat/juliatranslated\n",
      "==> Downloading https://homebrew.bintray.com/bottles/mbedtls-2.4.2.sierra.bottle.tar.gz\n",
      "==> Pouring mbedtls-2.4.2.sierra.bottle.tar.gz\n",
      "🍺  /Users/yebai/.julia/v0.5/Homebrew/deps/usr/Cellar/mbedtls/2.4.2: 127 files, 2.8MB\n"
     ]
    },
    {
     "name": "stderr",
     "output_type": "stream",
     "text": [
      "Warning: Already linked: /Users/yebai/.julia/v0.5/Homebrew/deps/usr/Cellar/mbedtls/2.4.2\n"
     ]
    },
    {
     "name": "stdout",
     "output_type": "stream",
     "text": [
      "Uninstalling pcre... (203 files, 5.4MB)\n",
      "==> Installing pcre from staticfloat/juliatranslated\n",
      "==> Downloading https://homebrew.bintray.com/bottles/pcre-8.40.sierra.bottle.tar.gz\n",
      "==> Pouring pcre-8.40.sierra.bottle.tar.gz\n",
      "🍺  /Users/yebai/.julia/v0.5/Homebrew/deps/usr/Cellar/pcre/8.40: 204 files, 5.4MB\n"
     ]
    },
    {
     "name": "stderr",
     "output_type": "stream",
     "text": [
      "Warning: Already linked: /Users/yebai/.julia/v0.5/Homebrew/deps/usr/Cellar/pcre/8.40\n",
      "\u001b[1m\u001b[34mINFO: Building Conda\n",
      "\u001b[0m\u001b[1m\u001b[34mINFO: Building PyCall\n",
      "\u001b[0m"
     ]
    },
    {
     "name": "stdout",
     "output_type": "stream",
     "text": [
      "Fetching package metadata .........\n",
      "Solving package specifications: .\n",
      "\n",
      "Package plan for installation in environment /Users/yebai/.julia/v0.5/Conda/deps/usr:\n",
      "\n",
      "The following packages will be UPDATED:\n",
      "\n",
      "    conda: 4.3.13-py27_0 --> 4.3.14-py27_0\n",
      "\n",
      "conda-4.3.14-p 100% |###############################| Time: 0:00:00   9.86 MB/s\n"
     ]
    },
    {
     "name": "stderr",
     "output_type": "stream",
     "text": [
      "\u001b[1m\u001b[34mINFO: PyCall is using /Users/yebai/.julia/v0.5/Conda/deps/usr/bin/python (Python 2.7.12) at /Users/yebai/.julia/v0.5/Conda/deps/usr/bin/python, libpython = /Users/yebai/.julia/v0.5/Conda/deps/usr/lib/libpython2.7\n",
      "\u001b[0m\u001b[1m\u001b[34mINFO: /Users/yebai/.julia/v0.5/PyCall/deps/deps.jl has not changed\n",
      "\u001b[0m\u001b[1m\u001b[34mINFO: /Users/yebai/.julia/v0.5/PyCall/deps/PYTHON has not changed\n",
      "\u001b[0m"
     ]
    }
   ],
   "source": [
    "Pkg.update()"
   ]
  },
  {
   "cell_type": "markdown",
   "metadata": {},
   "source": [
    "Install the stable version of Turing "
   ]
  },
  {
   "cell_type": "code",
   "execution_count": 2,
   "metadata": {
    "collapsed": false
   },
   "outputs": [
    {
     "name": "stderr",
     "output_type": "stream",
     "text": [
      "\u001b[1m\u001b[34mINFO: Nothing to be done\n",
      "\u001b[0m"
     ]
    }
   ],
   "source": [
    "Pkg.add(\"Turing\")"
   ]
  },
  {
   "cell_type": "markdown",
   "metadata": {},
   "source": [
    "or alternatively you can install the development of Turing (not recommended)"
   ]
  },
  {
   "cell_type": "code",
   "execution_count": 3,
   "metadata": {
    "collapsed": false
   },
   "outputs": [
    {
     "name": "stderr",
     "output_type": "stream",
     "text": [
      "\u001b[1m\u001b[34mINFO: Cloning Turing from https://github.com/yebai/Turing.jl\n",
      "\u001b[0m"
     ]
    },
    {
     "ename": "LoadError",
     "evalue": "Turing already exists",
     "output_type": "error",
     "traceback": [
      "Turing already exists",
      "",
      " in clone(::String, ::SubString{String}) at ./pkg/entry.jl:193",
      " in clone(::String) at ./pkg/entry.jl:221",
      " in (::Base.Pkg.Dir.##2#3{Array{Any,1},Base.Pkg.Entry.#clone,Tuple{String}})() at ./pkg/dir.jl:31",
      " in cd(::Base.Pkg.Dir.##2#3{Array{Any,1},Base.Pkg.Entry.#clone,Tuple{String}}, ::String) at ./file.jl:59",
      " in #cd#1(::Array{Any,1}, ::Function, ::Function, ::String, ::Vararg{Any,N}) at ./pkg/dir.jl:31",
      " in clone(::String) at ./pkg/pkg.jl:151"
     ]
    }
   ],
   "source": [
    "Pkg.clone(\"https://github.com/yebai/Turing.jl\")\n",
    "Pkg.checkout(\"Turing\", \"master\")"
   ]
  },
  {
   "cell_type": "markdown",
   "metadata": {},
   "source": [
    "Install some useful Julia packages:"
   ]
  },
  {
   "cell_type": "code",
   "execution_count": null,
   "metadata": {
    "collapsed": true
   },
   "outputs": [],
   "source": [
    "Pkg.add(\"IJulia\")\n",
    "Pkg.add(\"Gadfly\")"
   ]
  },
  {
   "cell_type": "markdown",
   "metadata": {},
   "source": [
    "#### Create your own model\n",
    "A probabilistic program is Julia code wrapped in a @model macro. It can use arbitrary Julia code, but to ensure correctness of inference it should not have external effects or modify global state. \n",
    "\n",
    "You can create your own @model using any distribution within the Distributions package. The list of such distributions supported is huge: \n",
    "http://distributionsjl.readthedocs.io/en/latest/ "
   ]
  },
  {
   "cell_type": "code",
   "execution_count": null,
   "metadata": {
    "collapsed": false
   },
   "outputs": [],
   "source": [
    "using Turing, Distributions\n",
    "\n",
    "@model gdemo(x) = begin\n",
    "  s ~ InverseGamma(2,3)\n",
    "  m ~ Normal(0,sqrt(s))\n",
    "  x[1] ~ Normal(m, sqrt(s))\n",
    "  x[2] ~ Normal(m, sqrt(s))\n",
    "  return s, m\n",
    "end\n"
   ]
  },
  {
   "cell_type": "markdown",
   "metadata": {
    "collapsed": true
   },
   "source": [
    "## Inference"
   ]
  },
  {
   "cell_type": "code",
   "execution_count": null,
   "metadata": {
    "collapsed": false
   },
   "outputs": [],
   "source": [
    "# Sample and print.\n",
    "c = @sample(gdemo([1.5, 2]), PG(50,100))\n",
    "s = MambaChains(c)\n",
    "describe(s)\n",
    "\n",
    "# Compute analytical solution. Requires `ConjugatePriors` package.\n",
    "# exact = posterior(NormalInverseGamma(0,1,2,3), Normal, [1.5,2.0])\n",
    "# println(\"Exact: m = $(mean(exact)[1]), s = $(mean(exact)[2])\")"
   ]
  }
 ],
 "metadata": {
  "anaconda-cloud": {},
  "kernelspec": {
   "display_name": "Julia 0.5.0",
   "language": "julia",
   "name": "julia-0.5"
  },
  "language_info": {
   "file_extension": ".jl",
   "mimetype": "application/julia",
   "name": "julia",
   "version": "0.5.0"
  }
 },
 "nbformat": 4,
 "nbformat_minor": 1
}
