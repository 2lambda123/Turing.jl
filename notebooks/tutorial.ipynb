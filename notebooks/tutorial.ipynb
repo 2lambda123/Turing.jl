{
 "cells": [
  {
   "cell_type": "markdown",
   "metadata": {},
   "source": [
    "## An introduction to Turing \n",
    "\n",
    "[Turing](https://github.com/yebai/Turing.jl) is a general-purpose probabilistic programming language based on Julia.\n",
    "\n",
    "Here we describe how to install Julia and Turing and run a very simple probabilistic program. "
   ]
  },
  {
   "cell_type": "markdown",
   "metadata": {},
   "source": [
    "### Prepration\n",
    "\n",
    "Install Julia from http://julialang.org/downloads/ and update packages"
   ]
  },
  {
   "cell_type": "markdown",
   "metadata": {},
   "source": [
    "Install the stable version of Turing "
   ]
  },
  {
   "cell_type": "code",
   "execution_count": null,
   "metadata": {
    "collapsed": false
   },
   "outputs": [],
   "source": [
    "Pkg.add(\"Turing\")"
   ]
  },
  {
   "cell_type": "markdown",
   "metadata": {},
   "source": [
    "or alternatively you can install the development of Turing (not recommended)"
   ]
  },
  {
   "cell_type": "code",
   "execution_count": null,
   "metadata": {
    "collapsed": false
   },
   "outputs": [],
   "source": [
    "# Pkg.clone(\"https://github.com/yebai/Turing.jl\")\n",
    "# Pkg.checkout(\"Turing\", \"master\")"
   ]
  },
  {
   "cell_type": "markdown",
   "metadata": {},
   "source": [
    "#### Create your own model\n",
    "A probabilistic program is Julia code wrapped in a @model macro. It can use arbitrary Julia code, but to ensure correctness of inference it should not have external effects or modify global state. \n",
    "\n",
    "You can create your own @model using any distribution within the Distributions package. The list of such distributions supported is huge: \n",
    "http://distributionsjl.readthedocs.io/en/latest/ "
   ]
  },
  {
   "cell_type": "code",
   "execution_count": 2,
   "metadata": {
    "collapsed": false
   },
   "outputs": [
    {
     "name": "stdout",
     "output_type": "stream",
     "text": [
      " Assume - `s` is a parameter\n",
      " Assume - `m` is a parameter\n",
      " Observe - `x` is an observation\n"
     ]
    },
    {
     "name": "stderr",
     "output_type": "stream",
     "text": [
      "WARNING: Method definition gdemo() in module Main overwritten.\n",
      "WARNING: Method definition gdemo(Any) in module Main overwritten.\n",
      "WARNING: Method definition gdemo(Any, Any) in module Main overwritten.\n",
      "WARNING: Method definition gdemo(Any, Any, Any) in module Main at /Users/yebai/.julia/v0.5/Turing/src/core/compiler.jl:248 overwritten at /Users/yebai/.julia/v0.5/Turing/src/core/compiler.jl:248.\n"
     ]
    },
    {
     "data": {
      "text/plain": [
       "gdemo (generic function with 4 methods)"
      ]
     },
     "execution_count": 2,
     "metadata": {},
     "output_type": "execute_result"
    }
   ],
   "source": [
    "using Turing, Distributions\n",
    "\n",
    "@model gdemo(x) = begin\n",
    "  s ~ InverseGamma(2,3)\n",
    "  m ~ Normal(0,sqrt(s))\n",
    "  x[1] ~ Normal(m, sqrt(s))\n",
    "  x[2] ~ Normal(m, sqrt(s))\n",
    "  return s, m\n",
    "end\n"
   ]
  },
  {
   "cell_type": "markdown",
   "metadata": {
    "collapsed": true
   },
   "source": [
    "## Inference"
   ]
  },
  {
   "cell_type": "code",
   "execution_count": 4,
   "metadata": {
    "collapsed": false
   },
   "outputs": [
    {
     "name": "stdout",
     "output_type": "stream",
     "text": [
      "[PG]: Finshed within 1.9410021305084229 seconds\n",
      "Iterations = 1:300\n",
      "Thinning interval = 1\n",
      "Chains = 1\n",
      "Samples per chain = 300\n",
      "\n",
      "Empirical Posterior Estimates:\n",
      "     Mean       SD     Naive SE      MCSE    ESS\n",
      "m 1.1608222 0.7858986 0.04537388 0.029122925 300\n",
      "s 2.0584310 1.9115138 0.11036130 0.082673365 300\n",
      "\n",
      "Quantiles:\n",
      "      2.5%       25.0%     50.0%     75.0%     97.5%  \n",
      "m -0.37338789 0.68540733 1.1395728 1.6602254 2.6820722\n",
      "s  0.61467613 1.03650586 1.4995534 2.2656389 6.9556917\n",
      "\n"
     ]
    }
   ],
   "source": [
    "# Sample and print.\n",
    "c = @sample(gdemo([1.5, 2]), PG(50,300))\n",
    "s = MambaChains(c)\n",
    "describe(s)\n",
    "\n",
    "# Compute analytical solution. Requires `ConjugatePriors` package.\n",
    "# exact = posterior(NormalInverseGamma(0,1,2,3), Normal, [1.5,2.0])\n",
    "# println(\"Exact: m = $(mean(exact)[1]), s = $(mean(exact)[2])\")"
   ]
  },
  {
   "cell_type": "code",
   "execution_count": 14,
   "metadata": {
    "collapsed": false
   },
   "outputs": [
    {
     "name": "stdout",
     "output_type": "stream",
     "text": [
      "[HMC]: Finshed with accept rate = 0.971 within 4.9229090213775635 seconds\n",
      "Iterations = 1:1000\n",
      "Thinning interval = 1\n",
      "Chains = 1\n",
      "Samples per chain = 1000\n",
      "\n",
      "Empirical Posterior Estimates:\n",
      "     Mean       SD     Naive SE      MCSE     ESS\n",
      "m 1.1622141 0.8644466 0.02733620 0.020580453 1000\n",
      "s 2.0567298 1.9582019 0.06192378 0.053387299 1000\n",
      "\n",
      "Quantiles:\n",
      "     2.5%      25.0%     50.0%     75.0%     97.5%  \n",
      "m -0.7271658 0.6804992 1.2129055 1.7036967 2.7719666\n",
      "s  0.5410996 1.0441755 1.5057669 2.3300369 7.1319002\n",
      "\n"
     ]
    }
   ],
   "source": [
    "c2 =  @sample(gdemo([1.5, 2]), HMC(1000, 0.3, 10));\n",
    "s2 = MambaChains(c2)\n",
    "describe(s2)"
   ]
  },
  {
   "cell_type": "code",
   "execution_count": null,
   "metadata": {
    "collapsed": true
   },
   "outputs": [],
   "source": []
  }
 ],
 "metadata": {
  "anaconda-cloud": {},
  "kernelspec": {
   "display_name": "Julia 0.5.0",
   "language": "julia",
   "name": "julia-0.5"
  },
  "language_info": {
   "file_extension": ".jl",
   "mimetype": "application/julia",
   "name": "julia",
   "version": "0.5.0"
  }
 },
 "nbformat": 4,
 "nbformat_minor": 1
}
