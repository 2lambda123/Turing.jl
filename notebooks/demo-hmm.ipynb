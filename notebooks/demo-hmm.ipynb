{
 "cells": [
  {
   "cell_type": "code",
   "execution_count": 16,
   "metadata": {
    "collapsed": false
   },
   "outputs": [],
   "source": [
    "using Turing, Distributions\n",
    "using PyPlot, PyCall\n",
    "@pyimport matplotlib.cm as cm\n",
    "@pyimport numpy as np"
   ]
  },
  {
   "cell_type": "code",
   "execution_count": 17,
   "metadata": {
    "collapsed": false
   },
   "outputs": [],
   "source": [
    "# Load transition matrix T and observations obs\n",
    "include(Pkg.dir(\"Turing\")*\"/notebooks/data/hmmdemo.data.jl\");"
   ]
  },
  {
   "cell_type": "code",
   "execution_count": 18,
   "metadata": {
    "collapsed": false
   },
   "outputs": [
    {
     "data": {
      "text/plain": [
       "hmmdemo (generic function with 1 method)"
      ]
     },
     "execution_count": 18,
     "metadata": {},
     "output_type": "execute_result"
    }
   ],
   "source": [
    "K = 5\n",
    "N = 201\n",
    "initial = fill(1.0 / K, K)\n",
    "means = (collect(1.0:K)*2-K)*2\n",
    "\n",
    "@model hmmdemo begin\n",
    "    states = tzeros(Int,N)\n",
    "    # T = TArray{Array{Float64,}}\n",
    "    \n",
    "    # Prior over T\n",
    "    # for i=1:K, @assume T[i,:] ~ Dirichlet(ones(K)./K); end\n",
    "    \n",
    "    @assume states[1] ~ Categorical(initial)\n",
    "    for i = 2:N\n",
    "        @assume states[i] ~ Categorical(vec(T[states[i-1],:]))\n",
    "        @observe obs[i] ~ Normal(means[states[i]], 4)\n",
    "    end\n",
    "    @predict states\n",
    "end"
   ]
  },
  {
   "cell_type": "code",
   "execution_count": 19,
   "metadata": {
    "collapsed": false
   },
   "outputs": [
    {
     "name": "stdout",
     "output_type": "stream",
     "text": [
      "[PG]: Iter 10 out of 100\n",
      "[PG]: Iter 20 out of 100\n",
      "[PG]: Iter 30 out of 100\n",
      "[PG]: Iter 40 out of 100\n",
      "[PG]: Iter 50 out of 100\n",
      "[PG]: Iter 60 out of 100\n",
      "[PG]: Iter 70 out of 100\n",
      "[PG]: Iter 80 out of 100\n",
      "[PG]: Iter 90 out of 100\n",
      "[PG]: Iter 100 out of 100\n"
     ]
    }
   ],
   "source": [
    "chain = sample(hmmdemo, PG(100,100));"
   ]
  },
  {
   "cell_type": "code",
   "execution_count": 20,
   "metadata": {
    "collapsed": false
   },
   "outputs": [
    {
     "data": {
      "text/plain": [
       "1x201 Array{Int64,2}:\n",
       " 4  3  5  5  2  2  2  2  2  2  2  4  3  …  2  2  2  2  2  2  2  2  2  2  2  2"
      ]
     },
     "execution_count": 20,
     "metadata": {},
     "output_type": "execute_result"
    }
   ],
   "source": [
    "# Print the 1st sample trajectory\n",
    "chain.value[1].value[:states]'"
   ]
  },
  {
   "cell_type": "code",
   "execution_count": 21,
   "metadata": {
    "collapsed": false
   },
   "outputs": [
    {
     "name": "stderr",
     "output_type": "stream",
     "text": [
      "/Users/yebai/.julia/v0.4/Conda/deps/usr/lib/python2.7/site-packages/matplotlib/backend_bases.py:2437: MatplotlibDeprecationWarning: Using default event loop until function specific to this GUI is implemented\n",
      "  warnings.warn(str, mplDeprecation)\n"
     ]
    },
    {
     "ename": "LoadError",
     "evalue": "LoadError: InterruptException:\nwhile loading In[21], in expression starting on line 11",
     "output_type": "error",
     "traceback": [
      "LoadError: InterruptException:\nwhile loading In[21], in expression starting on line 11",
      "",
      " in pycall at /Users/yebai/.julia/v0.4/PyCall/src/PyCall.jl:560",
      " in plot at /Users/yebai/.julia/v0.4/PyPlot/src/PyPlot.jl:395",
      " [inlined code] from In[21]:14",
      " in anonymous at no file:0"
     ]
    }
   ],
   "source": [
    "# plot in an external window since it doesn't work yet in IJulia\n",
    "pygui(true)\n",
    "# tell PyPlot that the plot is interactive\n",
    "PyPlot.ion()\n",
    "# . . . and that previous plots are overwritten\n",
    "PyPlot.hold(false)\n",
    "colors = cm.rainbow(np.linspace(0, 1, K))\n",
    "fig = gcf()\n",
    "fig[:figsize]=(12,6)\n",
    "\n",
    "for j=1:5;\n",
    "for i=1:length(chain.value)\n",
    "    # Plot trajectories\n",
    "    plot(1:N, means[chain.value[i].value[:states]], 1:N, obs, \"rs\")\n",
    "    \n",
    "    # Then force the draw\n",
    "    pause(0.05)\n",
    "end\n",
    "end"
   ]
  }
 ],
 "metadata": {
  "kernelspec": {
   "display_name": "Julia 0.4.6",
   "language": "julia",
   "name": "julia-0.4"
  },
  "language_info": {
   "file_extension": ".jl",
   "mimetype": "application/julia",
   "name": "julia",
   "version": "0.4.6"
  }
 },
 "nbformat": 4,
 "nbformat_minor": 0
}
