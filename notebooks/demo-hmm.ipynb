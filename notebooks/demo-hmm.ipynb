{
 "cells": [
  {
   "cell_type": "code",
   "execution_count": 12,
   "metadata": {
    "collapsed": false
   },
   "outputs": [],
   "source": [
    "using Turing, Distributions\n",
    "using PyPlot, PyCall\n",
    "@pyimport matplotlib.cm as cm\n",
    "@pyimport numpy as np"
   ]
  },
  {
   "cell_type": "code",
   "execution_count": 13,
   "metadata": {
    "collapsed": false
   },
   "outputs": [],
   "source": [
    "# Load transition matrix T and observations obs\n",
    "include(Pkg.dir(\"Turing\")*\"/notebooks/data/hmmdemo.data.jl\");"
   ]
  },
  {
   "cell_type": "code",
   "execution_count": 28,
   "metadata": {
    "collapsed": false
   },
   "outputs": [
    {
     "data": {
      "text/plain": [
       "hmmdemo (generic function with 1 method)"
      ]
     },
     "execution_count": 28,
     "metadata": {},
     "output_type": "execute_result"
    }
   ],
   "source": [
    "K = 10\n",
    "N = 51\n",
    "initial = fill(1.0 / K, K)\n",
    "means = collect(1.0:K)\n",
    "\n",
    "@model hmmdemo begin\n",
    "    states = tzeros(Int,N)\n",
    "    # T = TArray{Array{Float64,}}\n",
    "    \n",
    "    # Prior over T\n",
    "    # for i=1:K, @assume T[i,:] ~ Dirichlet(ones(K)./K); end\n",
    "    \n",
    "    @assume states[1] ~ Categorical(initial)\n",
    "    for i = 2:N\n",
    "        @assume states[i] ~ Categorical(vec(T[states[i-1],:]))\n",
    "        @observe obs[i] ~ Normal(means[states[i]], 2)\n",
    "    end\n",
    "    @predict states\n",
    "end"
   ]
  },
  {
   "cell_type": "code",
   "execution_count": 33,
   "metadata": {
    "collapsed": false
   },
   "outputs": [],
   "source": [
    "chain = sample(hmmdemo, PG(100,1000));"
   ]
  },
  {
   "cell_type": "code",
   "execution_count": 36,
   "metadata": {
    "collapsed": false
   },
   "outputs": [
    {
     "data": {
      "text/plain": [
       "Turing.Sample(0.001,Dict{Symbol,Any}(:states=>[5,8,9,8,9,1,5,8,9,8  …  9,8,9,4,5,8,9,8,9,7]))"
      ]
     },
     "execution_count": 36,
     "metadata": {},
     "output_type": "execute_result"
    }
   ],
   "source": [
    "# Print the 1st sample trajectory\n",
    "chain.value[1].value[:states]'\n",
    "chain.value[1000]"
   ]
  },
  {
   "cell_type": "code",
   "execution_count": 37,
   "metadata": {
    "collapsed": false
   },
   "outputs": [],
   "source": [
    "# plot in an external window since it doesn't work yet in IJulia\n",
    "pygui(true)\n",
    "# tell PyPlot that the plot is interactive\n",
    "PyPlot.ion()\n",
    "# . . . and that previous plots are overwritten\n",
    "PyPlot.hold(false)\n",
    "colors = cm.rainbow(np.linspace(0, 1, K))\n",
    "fig = gcf()\n",
    "fig[:figsize]=(8,6)\n",
    "\n",
    "for i=1:length(chain.value)\n",
    "    # Plot trajectories\n",
    "    plot(1:51, means[chain.value[i].value[:states]], 1:51, obs, \"rs\")\n",
    "    \n",
    "    # Then force the draw\n",
    "    pause(0.05)\n",
    "end"
   ]
  },
  {
   "cell_type": "code",
   "execution_count": null,
   "metadata": {
    "collapsed": true
   },
   "outputs": [],
   "source": []
  },
  {
   "cell_type": "code",
   "execution_count": null,
   "metadata": {
    "collapsed": true
   },
   "outputs": [],
   "source": []
  }
 ],
 "metadata": {
  "kernelspec": {
   "display_name": "Julia 0.4.6",
   "language": "julia",
   "name": "julia-0.4"
  },
  "language_info": {
   "file_extension": ".jl",
   "mimetype": "application/julia",
   "name": "julia",
   "version": "0.4.6"
  }
 },
 "nbformat": 4,
 "nbformat_minor": 0
}
