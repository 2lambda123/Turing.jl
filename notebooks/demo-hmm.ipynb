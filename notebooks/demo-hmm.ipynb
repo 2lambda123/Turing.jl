{
 "cells": [
  {
   "cell_type": "code",
   "execution_count": 5,
   "metadata": {
    "collapsed": false
   },
   "outputs": [],
   "source": [
    "using Turing, Distributions\n",
    "using PyPlot, PyCall"
   ]
  },
  {
   "cell_type": "code",
   "execution_count": 6,
   "metadata": {
    "collapsed": false
   },
   "outputs": [
    {
     "name": "stdout",
     "output_type": "stream",
     "text": [
      "[PG]: Iter 1 out of 10\n"
     ]
    },
    {
     "ename": "LoadError",
     "evalue": "LoadError: LoadError: MethodError: `convert` has no method matching convert(::Type{ForwardDiff.Dual{N,T<:Real}}, ::Array{Float64,1})\nThis may have arisen from a call to the constructor ForwardDiff.Dual{N,T<:Real}(...),\nsince type constructors fall back to convert methods.\nClosest candidates are:\n  ForwardDiff.Dual{N,T}(::T, !Matched::ForwardDiff.Partials{N,T})\n  ForwardDiff.Dual{N,A,B}(::A, !Matched::ForwardDiff.Partials{N,B})\n  call{T}(::Type{T}, ::Any)\n  ...\nwhile loading /Users/kai/.julia/v0.4/Turing/notebooks/data/hmmdemo.data.jl, in expression starting on line 33\nwhile loading In[6], in expression starting on line 2",
     "output_type": "error",
     "traceback": [
      "LoadError: LoadError: MethodError: `convert` has no method matching convert(::Type{ForwardDiff.Dual{N,T<:Real}}, ::Array{Float64,1})\nThis may have arisen from a call to the constructor ForwardDiff.Dual{N,T<:Real}(...),\nsince type constructors fall back to convert methods.\nClosest candidates are:\n  ForwardDiff.Dual{N,T}(::T, !Matched::ForwardDiff.Partials{N,T})\n  ForwardDiff.Dual{N,A,B}(::A, !Matched::ForwardDiff.Partials{N,B})\n  call{T}(::Type{T}, ::Any)\n  ...\nwhile loading /Users/kai/.julia/v0.4/Turing/notebooks/data/hmmdemo.data.jl, in expression starting on line 33\nwhile loading In[6], in expression starting on line 2",
      "",
      " in schedule_and_wait at task.jl:343",
      " in consume at task.jl:259",
      " in consume at /Users/kai/.julia/v0.4/Turing/src/core/container.jl:85",
      " in run at /Users/kai/.julia/v0.4/Turing/src/samplers/pgibbs.jl:30",
      " in sample at /Users/kai/.julia/v0.4/Turing/src/core/intrinsic.jl:20",
      " in include at /Applications/Julia-0.4.5.app/Contents/Resources/julia/lib/julia/sys.dylib",
      " in include_from_node1 at /Applications/Julia-0.4.5.app/Contents/Resources/julia/lib/julia/sys.dylib"
     ]
    }
   ],
   "source": [
    "# Load transition matrix T and observations obs\n",
    "include(Pkg.dir(\"Turing\")*\"/notebooks/data/hmmdemo.data.jl\");"
   ]
  },
  {
   "cell_type": "code",
   "execution_count": 3,
   "metadata": {
    "collapsed": false
   },
   "outputs": [
    {
     "data": {
      "text/plain": [
       "hmmdemo (generic function with 1 method)"
      ]
     },
     "execution_count": 3,
     "metadata": {},
     "output_type": "execute_result"
    }
   ],
   "source": [
    "K = 10\n",
    "N = 51\n",
    "initial = fill(1.0 / K, K)\n",
    "means = collect(1.0:K)*5\n",
    "\n",
    "@model hmmdemo begin\n",
    "    states = tzeros(Int,N)\n",
    "    # T = TArray{Array{Float64,}}\n",
    "    \n",
    "    # Prior over T\n",
    "    # for i=1:K, @assume T[i,:] ~ Dirichlet(ones(K)./K); end\n",
    "    \n",
    "    @assume states[1] ~ Categorical(initial)\n",
    "    for i = 2:N\n",
    "        @assume states[i] ~ Categorical(vec(T[states[i-1],:]))\n",
    "        @observe obs[i] ~ Normal(means[states[i]], 10)\n",
    "    end\n",
    "    @predict states\n",
    "end"
   ]
  },
  {
   "cell_type": "code",
   "execution_count": 4,
   "metadata": {
    "collapsed": false
   },
   "outputs": [
    {
     "name": "stdout",
     "output_type": "stream",
     "text": [
      "[PG]: Iter 1 out of 100\n"
     ]
    },
    {
     "ename": "LoadError",
     "evalue": "LoadError: MethodError: `convert` has no method matching convert(::Type{ForwardDiff.Dual{N,T<:Real}}, ::Array{Float64,1})\nThis may have arisen from a call to the constructor ForwardDiff.Dual{N,T<:Real}(...),\nsince type constructors fall back to convert methods.\nClosest candidates are:\n  ForwardDiff.Dual{N,T}(::T, !Matched::ForwardDiff.Partials{N,T})\n  ForwardDiff.Dual{N,A,B}(::A, !Matched::ForwardDiff.Partials{N,B})\n  call{T}(::Type{T}, ::Any)\n  ...\nwhile loading In[4], in expression starting on line 1",
     "output_type": "error",
     "traceback": [
      "LoadError: MethodError: `convert` has no method matching convert(::Type{ForwardDiff.Dual{N,T<:Real}}, ::Array{Float64,1})\nThis may have arisen from a call to the constructor ForwardDiff.Dual{N,T<:Real}(...),\nsince type constructors fall back to convert methods.\nClosest candidates are:\n  ForwardDiff.Dual{N,T}(::T, !Matched::ForwardDiff.Partials{N,T})\n  ForwardDiff.Dual{N,A,B}(::A, !Matched::ForwardDiff.Partials{N,B})\n  call{T}(::Type{T}, ::Any)\n  ...\nwhile loading In[4], in expression starting on line 1",
      "",
      " in schedule_and_wait at task.jl:343",
      " in consume at task.jl:259",
      " in consume at /Users/kai/.julia/v0.4/Turing/src/core/container.jl:85",
      " in run at /Users/kai/.julia/v0.4/Turing/src/samplers/pgibbs.jl:30",
      " in sample at /Users/kai/.julia/v0.4/Turing/src/core/intrinsic.jl:20"
     ]
    }
   ],
   "source": [
    "chain = sample(hmmdemo, PG(100,100));"
   ]
  },
  {
   "cell_type": "code",
   "execution_count": 50,
   "metadata": {
    "collapsed": false
   },
   "outputs": [
    {
     "data": {
      "text/plain": [
       "1x51 Array{Int64,2}:\n",
       " 8  9  5  10  4  4  6  7  2  2  3  9  …  9  8  9  7  1  8  7  2  3  9  6  7"
      ]
     },
     "execution_count": 50,
     "metadata": {},
     "output_type": "execute_result"
    }
   ],
   "source": [
    "# Print the 1st sample trajectory\n",
    "chain.value[1].value[:states]'"
   ]
  },
  {
   "cell_type": "code",
   "execution_count": 51,
   "metadata": {
    "collapsed": false
   },
   "outputs": [],
   "source": [
    "# plot in an external window since it doesn't work yet in IJulia\n",
    "pygui(true)\n",
    "# tell PyPlot that the plot is interactive\n",
    "PyPlot.ion()\n",
    "# . . . and that previous plots are overwritten\n",
    "PyPlot.hold(false)\n",
    "fig = gcf()\n",
    "fig[:figsize]=(8,6)\n",
    "\n",
    "for i=1:50\n",
    "    # Plot trajectories\n",
    "    plot(1:51, means[chain.value[i].value[:states]], 1:51, obs, \"rs\")\n",
    "    \n",
    "    # Then force the draw\n",
    "    pause(0.05)\n",
    "end"
   ]
  },
  {
   "cell_type": "code",
   "execution_count": null,
   "metadata": {
    "collapsed": true
   },
   "outputs": [],
   "source": []
  }
 ],
 "metadata": {
  "kernelspec": {
   "display_name": "Julia 0.4.5",
   "language": "julia",
   "name": "julia-0.4"
  },
  "language_info": {
   "file_extension": ".jl",
   "mimetype": "application/julia",
   "name": "julia",
   "version": "0.4.5"
  }
 },
 "nbformat": 4,
 "nbformat_minor": 0
}
