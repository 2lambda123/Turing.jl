{
 "cells": [
  {
   "cell_type": "code",
   "execution_count": null,
   "metadata": {
    "collapsed": true
   },
   "outputs": [],
   "source": [
    "using Distributions, Turing\n",
    "\n",
    "N = 10\n",
    "y = [0, 1, 0, 1, 0, 0, 0, 0, 0, 1]\n",
    "\n",
    "@model bernoulli(y) begin\n",
    "  p ~ Beta(1,1)\n",
    "  for i =1:N\n",
    "    y[i] ~ Bernoulli(p)\n",
    "  end\n",
    "  return(p)\n",
    "end\n",
    "\n",
    "c = @sample(bernoulli(y), HMC(1000, 0.2, 5))\n",
    "\n",
    "        # => 8.04s Mon 6 Mar 15:16:40\n",
    "        # => 7.42s Tue 7 Mar 12:59:55 (a083e820c26f7a02e62d0d24f45890d774940cca)\n",
    "        # => 6.25s Wed 8 Mar 11:01:55 (3d59ac810d7cca5ff642ff404e80e982c5173f27)\n"
   ]
  },
  {
   "cell_type": "code",
   "execution_count": null,
   "metadata": {
    "collapsed": true
   },
   "outputs": [],
   "source": []
  }
 ],
 "metadata": {
  "kernelspec": {
   "display_name": "Julia 0.5.0",
   "language": "julia",
   "name": "julia-0.5"
  },
  "language_info": {
   "file_extension": ".jl",
   "mimetype": "application/julia",
   "name": "julia",
   "version": "0.5.0"
  }
 },
 "nbformat": 4,
 "nbformat_minor": 1
}
