{
 "cells": [
  {
   "cell_type": "markdown",
   "metadata": {},
   "source": [
    "# A Bayesian Neural Net Demo for Turing"
   ]
  },
  {
   "cell_type": "markdown",
   "metadata": {},
   "source": [
    "## Get started\n",
    "\n",
    "Let's start by loading packages. \n",
    "\n",
    "`Turing` is our PPL framework and other pacakges are for plotting purpose."
   ]
  },
  {
   "cell_type": "code",
   "execution_count": 1,
   "metadata": {
    "collapsed": false
   },
   "outputs": [
    {
     "name": "stderr",
     "output_type": "stream",
     "text": [
      "WARNING: using Distributions.sampler in module Turing conflicts with an existing identifier.\n",
      "WARNING: Method definition logpdf(Union{Distributions.Truncated{T<:Distributions.Distribution{Distributions.Univariate, Distributions.Continuous}, S<:Distributions.ValueSupport}, T<:Distributions.Distribution{Distributions.Univariate, Distributions.Continuous}}, Real, Bool) in module Mamba at /Users/yebai/.julia/v0.5/Mamba/src/distributions/transformdistribution.jl:35 overwritten in module Turing at /Users/yebai/.julia/v0.5/Turing/src/samplers/support/transform.jl:39.\n",
      "WARNING: Method definition logpdf(Union{Distributions.NoncentralT, Distributions.Cauchy, Distributions.Laplace, Distributions.Logistic, Distributions.TDist, Distributions.NormalCanon, Distributions.Normal, Distributions.Gumbel}, Real, Bool) in module Mamba at /Users/yebai/.julia/v0.5/Mamba/src/distributions/transformdistribution.jl:61 overwritten in module Turing at /Users/yebai/.julia/v0.5/Turing/src/samplers/support/transform.jl:65.\n",
      "WARNING: Method definition logpdf(Union{Distributions.Frechet, Distributions.Rayleigh, Distributions.Erlang, Distributions.BetaPrime, Distributions.Chi, Distributions.Chisq, Distributions.NoncentralF, Distributions.InverseGamma, Distributions.NoncentralChisq, Distributions.Kolmogorov, Distributions.InverseGaussian, Distributions.Weibull, Distributions.LogNormal, Distributions.FDist, Distributions.Gamma, Distributions.Exponential}, Real, Bool) in module Mamba at /Users/yebai/.julia/v0.5/Mamba/src/distributions/transformdistribution.jl:76 overwritten in module Turing at /Users/yebai/.julia/v0.5/Turing/src/samplers/support/transform.jl:80.\n",
      "WARNING: Method definition logpdf(Union{Distributions.KSOneSided, Distributions.NoncentralBeta, Distributions.Beta}, Real, Bool) in module Mamba at /Users/yebai/.julia/v0.5/Mamba/src/distributions/transformdistribution.jl:91 overwritten in module Turing at /Users/yebai/.julia/v0.5/Turing/src/samplers/support/transform.jl:95.\n",
      "WARNING: Method definition logpdf(Distributions.Distribution, Any, Bool) in module Mamba at /Users/yebai/.julia/v0.5/Mamba/src/distributions/distributionstruct.jl:136 overwritten in module Turing at /Users/yebai/.julia/v0.5/Turing/src/samplers/support/transform.jl:189.\n",
      "WARNING: Method definition sample(Function, Turing.InferenceAlgorithm) in module Turing at /Users/yebai/.julia/v0.5/Turing/src/samplers/sampler.jl:50 overwritten at /Users/yebai/.julia/v0.5/Turing/src/samplers/sampler.jl:60.\n",
      "\u001b[1m\u001b[34mINFO: Precompiling module Reactive.\n",
      "\u001b[0m"
     ]
    },
    {
     "data": {
      "text/html": [
       "<div id=\"interact-js-shim\">\n",
       "    <script charset=\"utf-8\">\n",
       "(function (IPython, $, _, MathJax) {\n",
       "    $.event.special.destroyed = {\n",
       "\tremove: function(o) {\n",
       "\t    if (o.handler) {\n",
       "\t\to.handler.apply(this, arguments)\n",
       "\t    }\n",
       "\t}\n",
       "    }\n",
       "\n",
       "    var OutputArea = IPython.version >= \"4.0.0\" ? require(\"notebook/js/outputarea\").OutputArea : IPython.OutputArea;\n",
       "\n",
       "    var redrawValue = function (container, type, val) {\n",
       "\tvar selector = $(\"<div/>\");\n",
       "\tvar oa = new OutputArea(_.extend(selector, {\n",
       "\t    selector: selector,\n",
       "\t    prompt_area: true,\n",
       "\t    events: IPython.events,\n",
       "\t    keyboard_manager: IPython.keyboard_manager\n",
       "\t})); // Hack to work with IPython 2.1.0\n",
       "\n",
       "\tswitch (type) {\n",
       "\tcase \"image/png\":\n",
       "            var _src = 'data:' + type + ';base64,' + val;\n",
       "\t    $(container).find(\"img\").attr('src', _src);\n",
       "\t    break;\n",
       "\tcase \"text/latex\":\n",
       "\t\tif (MathJax){\n",
       "\t\t\tvar math = MathJax.Hub.getAllJax(container)[0];\n",
       "\t\t\tMathJax.Hub.Queue([\"Text\", math, val.replace(/^\\${1,2}|\\${1,2}$/g, '')]);\n",
       "\t\t\tbreak;\n",
       "\t\t}\n",
       "\tdefault:\n",
       "\t    var toinsert = OutputArea.append_map[type].apply(\n",
       "\t\toa, [val, {}, selector]\n",
       "\t    );\n",
       "\t    $(container).empty().append(toinsert.contents());\n",
       "\t    selector.remove();\n",
       "\t}\n",
       "    }\n",
       "\n",
       "\n",
       "    $(document).ready(function() {\n",
       "\tfunction initComm(evt, data) {\n",
       "\t    var comm_manager = data.kernel.comm_manager;\n",
       "        //_.extend(comm_manager.targets, require(\"widgets/js/widget\"))\n",
       "\t    comm_manager.register_target(\"Signal\", function (comm) {\n",
       "            comm.on_msg(function (msg) {\n",
       "                var val = msg.content.data.value;\n",
       "                $(\".signal-\" + comm.comm_id).each(function() {\n",
       "                var type = $(this).data(\"type\");\n",
       "                if (typeof(val[type]) !== \"undefined\" && val[type] !== null) {\n",
       "                    redrawValue(this, type, val[type], type);\n",
       "                }\n",
       "                });\n",
       "                delete val;\n",
       "                delete msg.content.data.value;\n",
       "            });\n",
       "\t    });\n",
       "\n",
       "\t    // coordingate with Comm and redraw Signals\n",
       "\t    // XXX: Test using Reactive here to improve performance\n",
       "\t    $([IPython.events]).on(\n",
       "\t\t'output_appended.OutputArea', function (event, type, value, md, toinsert) {\n",
       "\t\t    if (md && md.reactive) {\n",
       "                // console.log(md.comm_id);\n",
       "                toinsert.addClass(\"signal-\" + md.comm_id);\n",
       "                toinsert.data(\"type\", type);\n",
       "                // Signal back indicating the mimetype required\n",
       "                var comm_manager = IPython.notebook.kernel.comm_manager;\n",
       "                var comm = comm_manager.comms[md.comm_id];\n",
       "                comm.then(function (c) {\n",
       "                    c.send({action: \"subscribe_mime\",\n",
       "                       mime: type});\n",
       "                    toinsert.bind(\"destroyed\", function() {\n",
       "                        c.send({action: \"unsubscribe_mime\",\n",
       "                               mime: type});\n",
       "                    });\n",
       "                })\n",
       "\t\t    }\n",
       "\t    });\n",
       "\t}\n",
       "\n",
       "\ttry {\n",
       "\t    // try to initialize right away. otherwise, wait on the status_started event.\n",
       "\t    initComm(undefined, IPython.notebook);\n",
       "\t} catch (e) {\n",
       "\t    $([IPython.events]).on('kernel_created.Kernel kernel_created.Session', initComm);\n",
       "\t}\n",
       "    });\n",
       "})(IPython, jQuery, _, MathJax);\n",
       "</script>\n",
       "    <script>\n",
       "        window.interactLoadedFlag = true\n",
       "       $(\"#interact-js-shim\").bind(\"destroyed\", function () {\n",
       "           if (window.interactLoadedFlag) {\n",
       "               console.warn(\"JavaScript required by Interact will be removed if you remove this cell or run using Interact more than once.\")\n",
       "           }\n",
       "       })\n",
       "       $([IPython.events]).on(\"kernel_starting.Kernel kernel_restarting.Kernel\", function () { window.interactLoadedFlag = false })\n",
       "   </script>\n",
       "</div>"
      ]
     },
     "metadata": {},
     "output_type": "display_data"
    }
   ],
   "source": [
    "using Turing, Distributions\n",
    "using Reactive, Interact, Gadfly\n",
    "include(Pkg.dir(\"Turing\")*\"/doc/source/notebooks/data/bayesNN-helper.jl\");"
   ]
  },
  {
   "cell_type": "markdown",
   "metadata": {},
   "source": [
    "## The Model\n",
    "\n",
    "The Neural Network defined in this demo is shwon in the figure below.\n",
    "\n",
    "<img src=\"fig/bnn.png\">"
   ]
  },
  {
   "cell_type": "markdown",
   "metadata": {},
   "source": [
    "## Training Data\n",
    "\n",
    "Next, let's generate some training data and make a plotting."
   ]
  },
  {
   "cell_type": "code",
   "execution_count": null,
   "metadata": {
    "collapsed": false
   },
   "outputs": [],
   "source": [
    "# Generating 200 training data\n",
    "N = 200\n",
    "M = round(Int64, N / 4)\n",
    "x1s = rand(M) * 5\n",
    "x2s = rand(M) * 5\n",
    "xt1s = Array([[x1s[i]; x2s[i]] for i = 1:M])\n",
    "append!(xt1s, Array([[x1s[i] - 6; x2s[i] - 6] for i = 1:M]))\n",
    "xt0s = Array([[x1s[i]; x2s[i] - 6] for i = 1:M])\n",
    "append!(xt0s, Array([[x1s[i] - 6; x2s[i]] for i = 1:M]))\n",
    "\n",
    "xs = [xt1s; xt0s];\n",
    "ts = [ones(M); ones(M); zeros(M); zeros(M)];\n",
    "\n",
    "# Plot data points\n",
    "d1_layer = layer(x=map(e -> e[1], xt1s), y=map(e -> e[2], xt1s), Geom.point, Theme(default_color=colorant\"royalblue\"))\n",
    "d2_layer = layer(x=map(e -> e[1], xt0s), y=map(e -> e[2], xt0s), Geom.point, Theme(default_color=colorant\"springgreen\"))\n",
    "\n",
    "plot(d1_layer, d2_layer, Coord.Cartesian(xmin=-7, xmax=7, ymin=-7, ymax=7))"
   ]
  },
  {
   "cell_type": "markdown",
   "metadata": {},
   "source": [
    "## Model in Turing\n",
    "\n",
    "The neural network is defined in Turing as below."
   ]
  },
  {
   "cell_type": "code",
   "execution_count": null,
   "metadata": {
    "collapsed": false
   },
   "outputs": [],
   "source": [
    "# Define the model\n",
    "alpha = 0.16            # regularizatin term\n",
    "var = sqrt(1.0 / alpha) # variance of the Gaussian prior\n",
    "@model bnn(ts) = begin\n",
    "    w11 ~ MvNormal([0; 0], [var 0; 0 var])\n",
    "    w12 ~ MvNormal([0; 0], [var 0; 0 var])\n",
    "    w13 ~ MvNormal([0; 0], [var 0; 0 var])\n",
    "    w14 ~ MvNormal([0; 0], [var 0; 0 var])\n",
    "    b1 ~ MvNormal([0 ;0; 0; 0], [var 0 0 0; 0 var 0 0; 0 0 var 0; 0 0 0 var])\n",
    "\n",
    "    w21 ~ MvNormal([0 ;0; 0; 0], [var 0 0 0; 0 var 0 0; 0 0 var 0; 0 0 0 var])\n",
    "    w22 ~ MvNormal([0 ;0; 0; 0], [var 0 0 0; 0 var 0 0; 0 0 var 0; 0 0 0 var])\n",
    "    b2 ~ MvNormal([0 ;0], [var 0; 0 var])\n",
    "\n",
    "    wo ~ MvNormal([0; 0], [var 0; 0 var])\n",
    "    bo ~ Normal(0, var)\n",
    "\n",
    "    for i = rand(1:N, 25)\n",
    "        p = nn(xs[i], b1, w11, w12, w13, w14, b2, w21, w22, bo, wo)\n",
    "        y[i] ~ Bernoulli(p)\n",
    "    end\n",
    "    return b1, w11, w12, w13, w14, b2, w21, w22, bo, wo\n",
    "end"
   ]
  },
  {
   "cell_type": "markdown",
   "metadata": {},
   "source": [
    "## Training\n",
    "\n",
    "Let's call `sample()` to train the model.\n",
    "\n",
    "Note this model has 25 dimensions and would take ~25s to get 1000 samples."
   ]
  },
  {
   "cell_type": "code",
   "execution_count": null,
   "metadata": {
    "collapsed": false
   },
   "outputs": [],
   "source": [
    "@time chain = @sample(bnn(ts), HMC(1000, 0.1, 5));"
   ]
  },
  {
   "cell_type": "markdown",
   "metadata": {},
   "source": [
    "## Prediction\n",
    "\n",
    "The Bayesian prediciton result is then shown below.\n",
    "\n",
    "This is an interactive plot, in which you can change the ratio of samples in the chain to see the evoluation of training."
   ]
  },
  {
   "cell_type": "code",
   "execution_count": 5,
   "metadata": {
    "collapsed": false,
    "scrolled": true
   },
   "outputs": [
    {
     "data": {
      "text/html": [],
      "text/plain": [
       "Interact.Options{:SelectionSlider,Float64}(Signal{Float64}(0.46, nactions=1),\"ratio\",0.46,\"0.46\",Interact.OptionDict(DataStructures.OrderedDict(\"0.01\"=>0.01,\"0.060000000000000005\"=>0.06,\"0.11\"=>0.11,\"0.16000000000000003\"=>0.16,\"0.21000000000000002\"=>0.21,\"0.26\"=>0.26,\"0.31000000000000005\"=>0.31,\"0.36000000000000004\"=>0.36,\"0.41000000000000003\"=>0.41,\"0.46\"=>0.46…),Dict(0.26=>\"0.26\",0.66=>\"0.66\",0.51=>\"0.51\",0.76=>\"0.76\",0.56=>\"0.56\",0.01=>\"0.01\",0.91=>\"0.91\",0.81=>\"0.81\",0.31=>\"0.31000000000000005\",0.46=>\"0.46\"…)),Any[],Any[],true,\"horizontal\")"
      ]
     },
     "metadata": {},
     "output_type": "display_data"
    },
    {
     "ename": "UndefVarError",
     "evalue": "UndefVarError: chain not defined",
     "output_type": "error",
     "traceback": [
      "UndefVarError: chain not defined",
      "",
      " in (::##42#44{Float64})(::Float64, ::Float64) at ./In[5]:3",
      " in (::Gadfly.Stat.##34#35{Gadfly.Aesthetics})(::Tuple{Float64,Float64}) at ./<missing>:0",
      " in copy!(::Array{Float64,2}, ::Base.Generator{Base.Prod2{Array{Float64,1},Array{Float64,1}},Gadfly.Stat.##34#35{Gadfly.Aesthetics}}) at ./abstractarray.jl:477",
      " in _collect(::Type{Float64}, ::Base.Generator{Base.Prod2{Array{Float64,1},Array{Float64,1}},Gadfly.Stat.##34#35{Gadfly.Aesthetics}}, ::Base.HasShape) at ./array.jl:251",
      " in apply_statistic(::Gadfly.Stat.ContourStatistic, ::Dict{Symbol,Gadfly.ScaleElement}, ::Gadfly.Coord.Cartesian, ::Gadfly.Aesthetics) at /Users/yebai/.julia/v0.5/Gadfly/src/statistics.jl:1516",
      " in apply_statistics(::Array{Gadfly.StatisticElement,1}, ::Dict{Symbol,Gadfly.ScaleElement}, ::Gadfly.Coord.Cartesian, ::Gadfly.Aesthetics) at /Users/yebai/.julia/v0.5/Gadfly/src/statistics.jl:38",
      " in render_prepare(::Gadfly.Plot) at /Users/yebai/.julia/v0.5/Gadfly/src/Gadfly.jl:758",
      " in render(::Gadfly.Plot) at /Users/yebai/.julia/v0.5/Gadfly/src/Gadfly.jl:817",
      " in show at /Users/yebai/.julia/v0.5/Gadfly/src/Gadfly.jl:983 [inlined]",
      " in limitstringmime(::MIME{Symbol(\"image/svg+xml\")}, ::Gadfly.Plot) at /Users/yebai/.julia/v0.5/IJulia/src/inline.jl:25",
      " in display_dict(::Gadfly.Plot) at /Users/yebai/.julia/v0.5/IJulia/src/execute_request.jl:30",
      " in display_dict(::Reactive.Signal{Any}) at /Users/yebai/.julia/v0.5/Interact/src/IJulia/setup.jl:97",
      " in execute_request(::ZMQ.Socket, ::IJulia.Msg) at /Users/yebai/.julia/v0.5/IJulia/src/execute_request.jl:188",
      " in eventloop(::ZMQ.Socket) at /Users/yebai/.julia/v0.5/IJulia/src/eventloop.jl:8",
      " in (::IJulia.##13#19)() at ./task.jl:360"
     ]
    }
   ],
   "source": [
    "@manipulate for\n",
    "    ratio = 0.01:0.05:1\n",
    "    p_layer = layer(z=(x,y) -> predict([x, y], chain, ratio), x=linspace(-6,6,25), y=linspace(-6,6,25), Geom.contour)\n",
    "    plot(d1_layer, d2_layer, p_layer, Coord.cartesian(xmin=-6, xmax=6, ymin=-6, ymax=6))\n",
    "end"
   ]
  },
  {
   "cell_type": "code",
   "execution_count": null,
   "metadata": {
    "collapsed": true
   },
   "outputs": [],
   "source": []
  }
 ],
 "metadata": {
  "anaconda-cloud": {},
  "kernelspec": {
   "display_name": "Julia 0.5.0",
   "language": "julia",
   "name": "julia-0.5"
  },
  "language_info": {
   "file_extension": ".jl",
   "mimetype": "application/julia",
   "name": "julia",
   "version": "0.5.0"
  }
 },
 "nbformat": 4,
 "nbformat_minor": 0
}
